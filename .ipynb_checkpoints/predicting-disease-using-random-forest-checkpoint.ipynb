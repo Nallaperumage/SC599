{
 "cells": [
  {
   "cell_type": "code",
   "execution_count": 1,
   "id": "beneficial-ending",
   "metadata": {
    "_cell_guid": "b1076dfc-b9ad-4769-8c92-a6c4dae69d19",
    "_uuid": "8f2839f25d086af736a60e9eeb907d3b93b6e0e5",
    "execution": {
     "iopub.execute_input": "2021-06-24T05:54:46.445778Z",
     "iopub.status.busy": "2021-06-24T05:54:46.445281Z",
     "iopub.status.idle": "2021-06-24T05:54:46.461420Z",
     "shell.execute_reply": "2021-06-24T05:54:46.460819Z",
     "shell.execute_reply.started": "2021-06-24T05:40:19.093829Z"
    },
    "papermill": {
     "duration": 0.034883,
     "end_time": "2021-06-24T05:54:46.461641",
     "exception": false,
     "start_time": "2021-06-24T05:54:46.426758",
     "status": "completed"
    },
    "tags": []
   },
   "outputs": [
    {
     "name": "stdout",
     "output_type": "stream",
     "text": [
      "/kaggle/input/disease-symptom-description-dataset/symptom_Description.csv\n",
      "/kaggle/input/disease-symptom-description-dataset/Symptom-severity.csv\n",
      "/kaggle/input/disease-symptom-description-dataset/symptom_precaution.csv\n",
      "/kaggle/input/disease-symptom-description-dataset/dataset.csv\n"
     ]
    }
   ],
   "source": [
    "# This Python 3 environment comes with many helpful analytics libraries installed\n",
    "# It is defined by the kaggle/python Docker image: https://github.com/kaggle/docker-python\n",
    "# For example, here's several helpful packages to load\n",
    "\n",
    "import numpy as np # linear algebra\n",
    "import pandas as pd # data processing, CSV file I/O (e.g. pd.read_csv)\n",
    "\n",
    "# Input data files are available in the read-only \"../input/\" directory\n",
    "# For example, running this (by clicking run or pressing Shift+Enter) will list all files under the input directory\n",
    "\n",
    "import os\n",
    "for dirname, _, filenames in os.walk('/kaggle/input'):\n",
    "    for filename in filenames:\n",
    "        print(os.path.join(dirname, filename))\n",
    "\n",
    "# You can write up to 20GB to the current directory (/kaggle/working/) that gets preserved as output when you create a version using \"Save & Run All\" \n",
    "# You can also write temporary files to /kaggle/temp/, but they won't be saved outside of the current session"
   ]
  },
  {
   "cell_type": "code",
   "execution_count": 2,
   "id": "reported-hypothesis",
   "metadata": {
    "execution": {
     "iopub.execute_input": "2021-06-24T05:54:46.495556Z",
     "iopub.status.busy": "2021-06-24T05:54:46.494933Z",
     "iopub.status.idle": "2021-06-24T05:54:46.498847Z",
     "shell.execute_reply": "2021-06-24T05:54:46.498317Z"
    },
    "papermill": {
     "duration": 0.022435,
     "end_time": "2021-06-24T05:54:46.499071",
     "exception": false,
     "start_time": "2021-06-24T05:54:46.476636",
     "status": "completed"
    },
    "tags": []
   },
   "outputs": [
    {
     "ename": "SyntaxError",
     "evalue": "invalid syntax (<ipython-input-2-5327ae42fe9d>, line 1)",
     "output_type": "error",
     "traceback": [
      "\u001b[0;36m  File \u001b[0;32m\"<ipython-input-2-5327ae42fe9d>\"\u001b[0;36m, line \u001b[0;32m1\u001b[0m\n\u001b[0;31m    importing lib\u001b[0m\n\u001b[0m                ^\u001b[0m\n\u001b[0;31mSyntaxError\u001b[0m\u001b[0;31m:\u001b[0m invalid syntax\n"
     ]
    }
   ],
   "source": [
    "importing lib"
   ]
  },
  {
   "cell_type": "markdown",
   "id": "minor-sigma",
   "metadata": {
    "papermill": {
     "duration": 0.014479,
     "end_time": "2021-06-24T05:54:46.528556",
     "exception": false,
     "start_time": "2021-06-24T05:54:46.514077",
     "status": "completed"
    },
    "tags": []
   },
   "source": []
  },
  {
   "cell_type": "code",
   "execution_count": 3,
   "id": "disabled-vatican",
   "metadata": {
    "execution": {
     "iopub.execute_input": "2021-06-24T05:54:46.562779Z",
     "iopub.status.busy": "2021-06-24T05:54:46.562217Z",
     "iopub.status.idle": "2021-06-24T05:54:47.829926Z",
     "shell.execute_reply": "2021-06-24T05:54:47.829357Z",
     "shell.execute_reply.started": "2021-06-24T05:41:49.612878Z"
    },
    "papermill": {
     "duration": 1.286708,
     "end_time": "2021-06-24T05:54:47.830086",
     "exception": false,
     "start_time": "2021-06-24T05:54:46.543378",
     "status": "completed"
    },
    "tags": []
   },
   "outputs": [],
   "source": [
    "import pandas as pd\n",
    "import numpy as np\n",
    "import seaborn as sns\n",
    "import matplotlib.pyplot as plt\n",
    "from sklearn.model_selection import train_test_split\n",
    "from sklearn.model_selection import KFold\n",
    "from sklearn.model_selection import cross_val_score\n",
    "from sklearn.ensemble import RandomForestClassifier"
   ]
  },
  {
   "cell_type": "code",
   "execution_count": 4,
   "id": "miniature-wings",
   "metadata": {
    "execution": {
     "iopub.execute_input": "2021-06-24T05:54:47.866817Z",
     "iopub.status.busy": "2021-06-24T05:54:47.866075Z",
     "iopub.status.idle": "2021-06-24T05:54:47.870678Z",
     "shell.execute_reply": "2021-06-24T05:54:47.869601Z",
     "shell.execute_reply.started": "2021-06-24T05:42:56.556689Z"
    },
    "papermill": {
     "duration": 0.02381,
     "end_time": "2021-06-24T05:54:47.870846",
     "exception": false,
     "start_time": "2021-06-24T05:54:47.847036",
     "status": "completed"
    },
    "tags": []
   },
   "outputs": [
    {
     "name": "stdout",
     "output_type": "stream",
     "text": [
      "/kaggle/input/disease-symptom-description-dataset\n"
     ]
    }
   ],
   "source": [
    "cd /kaggle/input/disease-symptom-description-dataset"
   ]
  },
  {
   "cell_type": "code",
   "execution_count": 5,
   "id": "connected-apache",
   "metadata": {
    "execution": {
     "iopub.execute_input": "2021-06-24T05:54:47.907513Z",
     "iopub.status.busy": "2021-06-24T05:54:47.906885Z",
     "iopub.status.idle": "2021-06-24T05:54:47.938702Z",
     "shell.execute_reply": "2021-06-24T05:54:47.938109Z",
     "shell.execute_reply.started": "2021-06-24T05:43:30.281918Z"
    },
    "papermill": {
     "duration": 0.052136,
     "end_time": "2021-06-24T05:54:47.938826",
     "exception": false,
     "start_time": "2021-06-24T05:54:47.886690",
     "status": "completed"
    },
    "tags": []
   },
   "outputs": [],
   "source": [
    "data = pd.read_csv(\"dataset.csv\")"
   ]
  },
  {
   "cell_type": "code",
   "execution_count": 6,
   "id": "statistical-lindsay",
   "metadata": {
    "execution": {
     "iopub.execute_input": "2021-06-24T05:54:47.980379Z",
     "iopub.status.busy": "2021-06-24T05:54:47.979521Z",
     "iopub.status.idle": "2021-06-24T05:54:48.004195Z",
     "shell.execute_reply": "2021-06-24T05:54:48.003624Z",
     "shell.execute_reply.started": "2021-06-24T05:43:43.258011Z"
    },
    "papermill": {
     "duration": 0.050252,
     "end_time": "2021-06-24T05:54:48.004324",
     "exception": false,
     "start_time": "2021-06-24T05:54:47.954072",
     "status": "completed"
    },
    "tags": []
   },
   "outputs": [
    {
     "data": {
      "text/html": [
       "<div>\n",
       "<style scoped>\n",
       "    .dataframe tbody tr th:only-of-type {\n",
       "        vertical-align: middle;\n",
       "    }\n",
       "\n",
       "    .dataframe tbody tr th {\n",
       "        vertical-align: top;\n",
       "    }\n",
       "\n",
       "    .dataframe thead th {\n",
       "        text-align: right;\n",
       "    }\n",
       "</style>\n",
       "<table border=\"1\" class=\"dataframe\">\n",
       "  <thead>\n",
       "    <tr style=\"text-align: right;\">\n",
       "      <th></th>\n",
       "      <th>Disease</th>\n",
       "      <th>Symptom_1</th>\n",
       "      <th>Symptom_2</th>\n",
       "      <th>Symptom_3</th>\n",
       "      <th>Symptom_4</th>\n",
       "      <th>Symptom_5</th>\n",
       "      <th>Symptom_6</th>\n",
       "      <th>Symptom_7</th>\n",
       "      <th>Symptom_8</th>\n",
       "      <th>Symptom_9</th>\n",
       "      <th>Symptom_10</th>\n",
       "      <th>Symptom_11</th>\n",
       "      <th>Symptom_12</th>\n",
       "      <th>Symptom_13</th>\n",
       "      <th>Symptom_14</th>\n",
       "      <th>Symptom_15</th>\n",
       "      <th>Symptom_16</th>\n",
       "      <th>Symptom_17</th>\n",
       "    </tr>\n",
       "  </thead>\n",
       "  <tbody>\n",
       "    <tr>\n",
       "      <th>0</th>\n",
       "      <td>Fungal infection</td>\n",
       "      <td>itching</td>\n",
       "      <td>skin_rash</td>\n",
       "      <td>nodal_skin_eruptions</td>\n",
       "      <td>dischromic _patches</td>\n",
       "      <td>NaN</td>\n",
       "      <td>NaN</td>\n",
       "      <td>NaN</td>\n",
       "      <td>NaN</td>\n",
       "      <td>NaN</td>\n",
       "      <td>NaN</td>\n",
       "      <td>NaN</td>\n",
       "      <td>NaN</td>\n",
       "      <td>NaN</td>\n",
       "      <td>NaN</td>\n",
       "      <td>NaN</td>\n",
       "      <td>NaN</td>\n",
       "      <td>NaN</td>\n",
       "    </tr>\n",
       "    <tr>\n",
       "      <th>1</th>\n",
       "      <td>Fungal infection</td>\n",
       "      <td>skin_rash</td>\n",
       "      <td>nodal_skin_eruptions</td>\n",
       "      <td>dischromic _patches</td>\n",
       "      <td>NaN</td>\n",
       "      <td>NaN</td>\n",
       "      <td>NaN</td>\n",
       "      <td>NaN</td>\n",
       "      <td>NaN</td>\n",
       "      <td>NaN</td>\n",
       "      <td>NaN</td>\n",
       "      <td>NaN</td>\n",
       "      <td>NaN</td>\n",
       "      <td>NaN</td>\n",
       "      <td>NaN</td>\n",
       "      <td>NaN</td>\n",
       "      <td>NaN</td>\n",
       "      <td>NaN</td>\n",
       "    </tr>\n",
       "    <tr>\n",
       "      <th>2</th>\n",
       "      <td>Fungal infection</td>\n",
       "      <td>itching</td>\n",
       "      <td>nodal_skin_eruptions</td>\n",
       "      <td>dischromic _patches</td>\n",
       "      <td>NaN</td>\n",
       "      <td>NaN</td>\n",
       "      <td>NaN</td>\n",
       "      <td>NaN</td>\n",
       "      <td>NaN</td>\n",
       "      <td>NaN</td>\n",
       "      <td>NaN</td>\n",
       "      <td>NaN</td>\n",
       "      <td>NaN</td>\n",
       "      <td>NaN</td>\n",
       "      <td>NaN</td>\n",
       "      <td>NaN</td>\n",
       "      <td>NaN</td>\n",
       "      <td>NaN</td>\n",
       "    </tr>\n",
       "    <tr>\n",
       "      <th>3</th>\n",
       "      <td>Fungal infection</td>\n",
       "      <td>itching</td>\n",
       "      <td>skin_rash</td>\n",
       "      <td>dischromic _patches</td>\n",
       "      <td>NaN</td>\n",
       "      <td>NaN</td>\n",
       "      <td>NaN</td>\n",
       "      <td>NaN</td>\n",
       "      <td>NaN</td>\n",
       "      <td>NaN</td>\n",
       "      <td>NaN</td>\n",
       "      <td>NaN</td>\n",
       "      <td>NaN</td>\n",
       "      <td>NaN</td>\n",
       "      <td>NaN</td>\n",
       "      <td>NaN</td>\n",
       "      <td>NaN</td>\n",
       "      <td>NaN</td>\n",
       "    </tr>\n",
       "    <tr>\n",
       "      <th>4</th>\n",
       "      <td>Fungal infection</td>\n",
       "      <td>itching</td>\n",
       "      <td>skin_rash</td>\n",
       "      <td>nodal_skin_eruptions</td>\n",
       "      <td>NaN</td>\n",
       "      <td>NaN</td>\n",
       "      <td>NaN</td>\n",
       "      <td>NaN</td>\n",
       "      <td>NaN</td>\n",
       "      <td>NaN</td>\n",
       "      <td>NaN</td>\n",
       "      <td>NaN</td>\n",
       "      <td>NaN</td>\n",
       "      <td>NaN</td>\n",
       "      <td>NaN</td>\n",
       "      <td>NaN</td>\n",
       "      <td>NaN</td>\n",
       "      <td>NaN</td>\n",
       "    </tr>\n",
       "  </tbody>\n",
       "</table>\n",
       "</div>"
      ],
      "text/plain": [
       "            Disease   Symptom_1              Symptom_2              Symptom_3  \\\n",
       "0  Fungal infection     itching              skin_rash   nodal_skin_eruptions   \n",
       "1  Fungal infection   skin_rash   nodal_skin_eruptions    dischromic _patches   \n",
       "2  Fungal infection     itching   nodal_skin_eruptions    dischromic _patches   \n",
       "3  Fungal infection     itching              skin_rash    dischromic _patches   \n",
       "4  Fungal infection     itching              skin_rash   nodal_skin_eruptions   \n",
       "\n",
       "              Symptom_4 Symptom_5 Symptom_6 Symptom_7 Symptom_8 Symptom_9  \\\n",
       "0   dischromic _patches       NaN       NaN       NaN       NaN       NaN   \n",
       "1                   NaN       NaN       NaN       NaN       NaN       NaN   \n",
       "2                   NaN       NaN       NaN       NaN       NaN       NaN   \n",
       "3                   NaN       NaN       NaN       NaN       NaN       NaN   \n",
       "4                   NaN       NaN       NaN       NaN       NaN       NaN   \n",
       "\n",
       "  Symptom_10 Symptom_11 Symptom_12 Symptom_13 Symptom_14 Symptom_15  \\\n",
       "0        NaN        NaN        NaN        NaN        NaN        NaN   \n",
       "1        NaN        NaN        NaN        NaN        NaN        NaN   \n",
       "2        NaN        NaN        NaN        NaN        NaN        NaN   \n",
       "3        NaN        NaN        NaN        NaN        NaN        NaN   \n",
       "4        NaN        NaN        NaN        NaN        NaN        NaN   \n",
       "\n",
       "  Symptom_16 Symptom_17  \n",
       "0        NaN        NaN  \n",
       "1        NaN        NaN  \n",
       "2        NaN        NaN  \n",
       "3        NaN        NaN  \n",
       "4        NaN        NaN  "
      ]
     },
     "execution_count": 6,
     "metadata": {},
     "output_type": "execute_result"
    }
   ],
   "source": [
    "data.head()"
   ]
  },
  {
   "cell_type": "code",
   "execution_count": 7,
   "id": "textile-thomas",
   "metadata": {
    "execution": {
     "iopub.execute_input": "2021-06-24T05:54:48.044509Z",
     "iopub.status.busy": "2021-06-24T05:54:48.043623Z",
     "iopub.status.idle": "2021-06-24T05:54:48.107724Z",
     "shell.execute_reply": "2021-06-24T05:54:48.107187Z",
     "shell.execute_reply.started": "2021-06-24T05:44:04.088878Z"
    },
    "papermill": {
     "duration": 0.087934,
     "end_time": "2021-06-24T05:54:48.107849",
     "exception": false,
     "start_time": "2021-06-24T05:54:48.019915",
     "status": "completed"
    },
    "tags": []
   },
   "outputs": [
    {
     "data": {
      "text/html": [
       "<div>\n",
       "<style scoped>\n",
       "    .dataframe tbody tr th:only-of-type {\n",
       "        vertical-align: middle;\n",
       "    }\n",
       "\n",
       "    .dataframe tbody tr th {\n",
       "        vertical-align: top;\n",
       "    }\n",
       "\n",
       "    .dataframe thead th {\n",
       "        text-align: right;\n",
       "    }\n",
       "</style>\n",
       "<table border=\"1\" class=\"dataframe\">\n",
       "  <thead>\n",
       "    <tr style=\"text-align: right;\">\n",
       "      <th></th>\n",
       "      <th>Disease</th>\n",
       "      <th>Symptom_1</th>\n",
       "      <th>Symptom_2</th>\n",
       "      <th>Symptom_3</th>\n",
       "      <th>Symptom_4</th>\n",
       "      <th>Symptom_5</th>\n",
       "      <th>Symptom_6</th>\n",
       "      <th>Symptom_7</th>\n",
       "      <th>Symptom_8</th>\n",
       "      <th>Symptom_9</th>\n",
       "      <th>Symptom_10</th>\n",
       "      <th>Symptom_11</th>\n",
       "      <th>Symptom_12</th>\n",
       "      <th>Symptom_13</th>\n",
       "      <th>Symptom_14</th>\n",
       "      <th>Symptom_15</th>\n",
       "      <th>Symptom_16</th>\n",
       "      <th>Symptom_17</th>\n",
       "    </tr>\n",
       "  </thead>\n",
       "  <tbody>\n",
       "    <tr>\n",
       "      <th>count</th>\n",
       "      <td>4920</td>\n",
       "      <td>4920</td>\n",
       "      <td>4920</td>\n",
       "      <td>4920</td>\n",
       "      <td>4572</td>\n",
       "      <td>3714</td>\n",
       "      <td>2934</td>\n",
       "      <td>2268</td>\n",
       "      <td>1944</td>\n",
       "      <td>1692</td>\n",
       "      <td>1512</td>\n",
       "      <td>1194</td>\n",
       "      <td>744</td>\n",
       "      <td>504</td>\n",
       "      <td>306</td>\n",
       "      <td>240</td>\n",
       "      <td>192</td>\n",
       "      <td>72</td>\n",
       "    </tr>\n",
       "    <tr>\n",
       "      <th>unique</th>\n",
       "      <td>41</td>\n",
       "      <td>34</td>\n",
       "      <td>48</td>\n",
       "      <td>54</td>\n",
       "      <td>50</td>\n",
       "      <td>38</td>\n",
       "      <td>32</td>\n",
       "      <td>26</td>\n",
       "      <td>21</td>\n",
       "      <td>22</td>\n",
       "      <td>21</td>\n",
       "      <td>18</td>\n",
       "      <td>11</td>\n",
       "      <td>8</td>\n",
       "      <td>4</td>\n",
       "      <td>3</td>\n",
       "      <td>3</td>\n",
       "      <td>1</td>\n",
       "    </tr>\n",
       "    <tr>\n",
       "      <th>top</th>\n",
       "      <td>Hypothyroidism</td>\n",
       "      <td>vomiting</td>\n",
       "      <td>vomiting</td>\n",
       "      <td>fatigue</td>\n",
       "      <td>high_fever</td>\n",
       "      <td>headache</td>\n",
       "      <td>nausea</td>\n",
       "      <td>abdominal_pain</td>\n",
       "      <td>abdominal_pain</td>\n",
       "      <td>yellowing_of_eyes</td>\n",
       "      <td>yellowing_of_eyes</td>\n",
       "      <td>irritability</td>\n",
       "      <td>malaise</td>\n",
       "      <td>muscle_pain</td>\n",
       "      <td>chest_pain</td>\n",
       "      <td>chest_pain</td>\n",
       "      <td>loss_of_smell</td>\n",
       "      <td>muscle_pain</td>\n",
       "    </tr>\n",
       "    <tr>\n",
       "      <th>freq</th>\n",
       "      <td>120</td>\n",
       "      <td>822</td>\n",
       "      <td>870</td>\n",
       "      <td>726</td>\n",
       "      <td>378</td>\n",
       "      <td>348</td>\n",
       "      <td>390</td>\n",
       "      <td>264</td>\n",
       "      <td>276</td>\n",
       "      <td>228</td>\n",
       "      <td>198</td>\n",
       "      <td>120</td>\n",
       "      <td>126</td>\n",
       "      <td>72</td>\n",
       "      <td>96</td>\n",
       "      <td>144</td>\n",
       "      <td>72</td>\n",
       "      <td>72</td>\n",
       "    </tr>\n",
       "  </tbody>\n",
       "</table>\n",
       "</div>"
      ],
      "text/plain": [
       "               Disease  Symptom_1  Symptom_2 Symptom_3    Symptom_4  \\\n",
       "count             4920       4920       4920      4920         4572   \n",
       "unique              41         34         48        54           50   \n",
       "top     Hypothyroidism   vomiting   vomiting   fatigue   high_fever   \n",
       "freq               120        822        870       726          378   \n",
       "\n",
       "        Symptom_5 Symptom_6        Symptom_7        Symptom_8  \\\n",
       "count        3714      2934             2268             1944   \n",
       "unique         38        32               26               21   \n",
       "top      headache    nausea   abdominal_pain   abdominal_pain   \n",
       "freq          348       390              264              276   \n",
       "\n",
       "                 Symptom_9          Symptom_10     Symptom_11 Symptom_12  \\\n",
       "count                 1692                1512           1194        744   \n",
       "unique                  22                  21             18         11   \n",
       "top      yellowing_of_eyes   yellowing_of_eyes   irritability    malaise   \n",
       "freq                   228                 198            120        126   \n",
       "\n",
       "          Symptom_13   Symptom_14   Symptom_15      Symptom_16    Symptom_17  \n",
       "count            504          306          240             192            72  \n",
       "unique             8            4            3               3             1  \n",
       "top      muscle_pain   chest_pain   chest_pain   loss_of_smell   muscle_pain  \n",
       "freq              72           96          144              72            72  "
      ]
     },
     "execution_count": 7,
     "metadata": {},
     "output_type": "execute_result"
    }
   ],
   "source": [
    "#dataset charctersitics\n",
    "data.describe()"
   ]
  },
  {
   "cell_type": "code",
   "execution_count": 8,
   "id": "cellular-wallpaper",
   "metadata": {
    "execution": {
     "iopub.execute_input": "2021-06-24T05:54:48.150499Z",
     "iopub.status.busy": "2021-06-24T05:54:48.149674Z",
     "iopub.status.idle": "2021-06-24T05:54:48.153864Z",
     "shell.execute_reply": "2021-06-24T05:54:48.153450Z",
     "shell.execute_reply.started": "2021-06-24T05:44:20.283544Z"
    },
    "papermill": {
     "duration": 0.030161,
     "end_time": "2021-06-24T05:54:48.153990",
     "exception": false,
     "start_time": "2021-06-24T05:54:48.123829",
     "status": "completed"
    },
    "tags": []
   },
   "outputs": [
    {
     "data": {
      "text/plain": [
       "Disease          0\n",
       "Symptom_1        0\n",
       "Symptom_2        0\n",
       "Symptom_3        0\n",
       "Symptom_4      348\n",
       "Symptom_5     1206\n",
       "Symptom_6     1986\n",
       "Symptom_7     2652\n",
       "Symptom_8     2976\n",
       "Symptom_9     3228\n",
       "Symptom_10    3408\n",
       "Symptom_11    3726\n",
       "Symptom_12    4176\n",
       "Symptom_13    4416\n",
       "Symptom_14    4614\n",
       "Symptom_15    4680\n",
       "Symptom_16    4728\n",
       "Symptom_17    4848\n",
       "dtype: int64"
      ]
     },
     "execution_count": 8,
     "metadata": {},
     "output_type": "execute_result"
    }
   ],
   "source": [
    "# missing values\n",
    "data.isna().sum()"
   ]
  },
  {
   "cell_type": "code",
   "execution_count": 9,
   "id": "surprising-chemistry",
   "metadata": {
    "execution": {
     "iopub.execute_input": "2021-06-24T05:54:48.191979Z",
     "iopub.status.busy": "2021-06-24T05:54:48.191427Z",
     "iopub.status.idle": "2021-06-24T05:54:48.194823Z",
     "shell.execute_reply": "2021-06-24T05:54:48.194422Z",
     "shell.execute_reply.started": "2021-06-24T05:44:33.276317Z"
    },
    "papermill": {
     "duration": 0.024709,
     "end_time": "2021-06-24T05:54:48.194943",
     "exception": false,
     "start_time": "2021-06-24T05:54:48.170234",
     "status": "completed"
    },
    "tags": []
   },
   "outputs": [
    {
     "data": {
      "text/plain": [
       "41"
      ]
     },
     "execution_count": 9,
     "metadata": {},
     "output_type": "execute_result"
    }
   ],
   "source": [
    "#number of disease\n",
    "len(data['Disease'].unique())"
   ]
  },
  {
   "cell_type": "code",
   "execution_count": 10,
   "id": "better-english",
   "metadata": {
    "execution": {
     "iopub.execute_input": "2021-06-24T05:54:48.231197Z",
     "iopub.status.busy": "2021-06-24T05:54:48.230683Z",
     "iopub.status.idle": "2021-06-24T05:54:48.233412Z",
     "shell.execute_reply": "2021-06-24T05:54:48.233841Z",
     "shell.execute_reply.started": "2021-06-24T05:44:46.673242Z"
    },
    "papermill": {
     "duration": 0.022827,
     "end_time": "2021-06-24T05:54:48.233987",
     "exception": false,
     "start_time": "2021-06-24T05:54:48.211160",
     "status": "completed"
    },
    "tags": []
   },
   "outputs": [
    {
     "data": {
      "text/plain": [
       "(4920, 18)"
      ]
     },
     "execution_count": 10,
     "metadata": {},
     "output_type": "execute_result"
    }
   ],
   "source": [
    "#shape of the dataset(4920 rows and 18 cols)\n",
    "data.shape"
   ]
  },
  {
   "cell_type": "code",
   "execution_count": 11,
   "id": "patient-request",
   "metadata": {
    "execution": {
     "iopub.execute_input": "2021-06-24T05:54:48.269582Z",
     "iopub.status.busy": "2021-06-24T05:54:48.269051Z",
     "iopub.status.idle": "2021-06-24T05:54:48.273777Z",
     "shell.execute_reply": "2021-06-24T05:54:48.274263Z",
     "shell.execute_reply.started": "2021-06-24T05:45:01.363913Z"
    },
    "papermill": {
     "duration": 0.024045,
     "end_time": "2021-06-24T05:54:48.274409",
     "exception": false,
     "start_time": "2021-06-24T05:54:48.250364",
     "status": "completed"
    },
    "tags": []
   },
   "outputs": [
    {
     "data": {
      "text/plain": [
       "['Symptom_1',\n",
       " 'Symptom_2',\n",
       " 'Symptom_3',\n",
       " 'Symptom_4',\n",
       " 'Symptom_5',\n",
       " 'Symptom_6',\n",
       " 'Symptom_7',\n",
       " 'Symptom_8',\n",
       " 'Symptom_9',\n",
       " 'Symptom_10',\n",
       " 'Symptom_11',\n",
       " 'Symptom_12',\n",
       " 'Symptom_13',\n",
       " 'Symptom_14',\n",
       " 'Symptom_15',\n",
       " 'Symptom_16',\n",
       " 'Symptom_17']"
      ]
     },
     "execution_count": 11,
     "metadata": {},
     "output_type": "execute_result"
    }
   ],
   "source": [
    "cols = [i for i in data.iloc[:,1:].columns]\n",
    "cols"
   ]
  },
  {
   "cell_type": "code",
   "execution_count": 12,
   "id": "worth-drill",
   "metadata": {
    "execution": {
     "iopub.execute_input": "2021-06-24T05:54:48.310214Z",
     "iopub.status.busy": "2021-06-24T05:54:48.309709Z",
     "iopub.status.idle": "2021-06-24T05:54:48.436304Z",
     "shell.execute_reply": "2021-06-24T05:54:48.435744Z",
     "shell.execute_reply.started": "2021-06-24T05:45:28.429581Z"
    },
    "papermill": {
     "duration": 0.145522,
     "end_time": "2021-06-24T05:54:48.436432",
     "exception": false,
     "start_time": "2021-06-24T05:54:48.290910",
     "status": "completed"
    },
    "tags": []
   },
   "outputs": [
    {
     "data": {
      "text/html": [
       "<div>\n",
       "<style scoped>\n",
       "    .dataframe tbody tr th:only-of-type {\n",
       "        vertical-align: middle;\n",
       "    }\n",
       "\n",
       "    .dataframe tbody tr th {\n",
       "        vertical-align: top;\n",
       "    }\n",
       "\n",
       "    .dataframe thead th {\n",
       "        text-align: right;\n",
       "    }\n",
       "</style>\n",
       "<table border=\"1\" class=\"dataframe\">\n",
       "  <thead>\n",
       "    <tr style=\"text-align: right;\">\n",
       "      <th>value</th>\n",
       "      <th>label</th>\n",
       "      <th>abdominal_pain</th>\n",
       "      <th>abnormal_menstruation</th>\n",
       "      <th>acidity</th>\n",
       "      <th>acute_liver_failure</th>\n",
       "      <th>altered_sensorium</th>\n",
       "      <th>anxiety</th>\n",
       "      <th>back_pain</th>\n",
       "      <th>belly_pain</th>\n",
       "      <th>blackheads</th>\n",
       "      <th>...</th>\n",
       "      <th>watering_from_eyes</th>\n",
       "      <th>weakness_in_limbs</th>\n",
       "      <th>weakness_of_one_body_side</th>\n",
       "      <th>weight_gain</th>\n",
       "      <th>weight_loss</th>\n",
       "      <th>yellow_crust_ooze</th>\n",
       "      <th>yellow_urine</th>\n",
       "      <th>yellowing_of_eyes</th>\n",
       "      <th>yellowish_skin</th>\n",
       "      <th>itching</th>\n",
       "    </tr>\n",
       "    <tr>\n",
       "      <th>index</th>\n",
       "      <th></th>\n",
       "      <th></th>\n",
       "      <th></th>\n",
       "      <th></th>\n",
       "      <th></th>\n",
       "      <th></th>\n",
       "      <th></th>\n",
       "      <th></th>\n",
       "      <th></th>\n",
       "      <th></th>\n",
       "      <th></th>\n",
       "      <th></th>\n",
       "      <th></th>\n",
       "      <th></th>\n",
       "      <th></th>\n",
       "      <th></th>\n",
       "      <th></th>\n",
       "      <th></th>\n",
       "      <th></th>\n",
       "      <th></th>\n",
       "      <th></th>\n",
       "    </tr>\n",
       "  </thead>\n",
       "  <tbody>\n",
       "    <tr>\n",
       "      <th>0</th>\n",
       "      <td>Fungal infection</td>\n",
       "      <td>0.0</td>\n",
       "      <td>0.0</td>\n",
       "      <td>0.0</td>\n",
       "      <td>0.0</td>\n",
       "      <td>0.0</td>\n",
       "      <td>0.0</td>\n",
       "      <td>0.0</td>\n",
       "      <td>0.0</td>\n",
       "      <td>0.0</td>\n",
       "      <td>...</td>\n",
       "      <td>0.0</td>\n",
       "      <td>0.0</td>\n",
       "      <td>0.0</td>\n",
       "      <td>0.0</td>\n",
       "      <td>0.0</td>\n",
       "      <td>0.0</td>\n",
       "      <td>0.0</td>\n",
       "      <td>0.0</td>\n",
       "      <td>0.0</td>\n",
       "      <td>1.0</td>\n",
       "    </tr>\n",
       "    <tr>\n",
       "      <th>1</th>\n",
       "      <td>Fungal infection</td>\n",
       "      <td>0.0</td>\n",
       "      <td>0.0</td>\n",
       "      <td>0.0</td>\n",
       "      <td>0.0</td>\n",
       "      <td>0.0</td>\n",
       "      <td>0.0</td>\n",
       "      <td>0.0</td>\n",
       "      <td>0.0</td>\n",
       "      <td>0.0</td>\n",
       "      <td>...</td>\n",
       "      <td>0.0</td>\n",
       "      <td>0.0</td>\n",
       "      <td>0.0</td>\n",
       "      <td>0.0</td>\n",
       "      <td>0.0</td>\n",
       "      <td>0.0</td>\n",
       "      <td>0.0</td>\n",
       "      <td>0.0</td>\n",
       "      <td>0.0</td>\n",
       "      <td>0.0</td>\n",
       "    </tr>\n",
       "    <tr>\n",
       "      <th>2</th>\n",
       "      <td>Fungal infection</td>\n",
       "      <td>0.0</td>\n",
       "      <td>0.0</td>\n",
       "      <td>0.0</td>\n",
       "      <td>0.0</td>\n",
       "      <td>0.0</td>\n",
       "      <td>0.0</td>\n",
       "      <td>0.0</td>\n",
       "      <td>0.0</td>\n",
       "      <td>0.0</td>\n",
       "      <td>...</td>\n",
       "      <td>0.0</td>\n",
       "      <td>0.0</td>\n",
       "      <td>0.0</td>\n",
       "      <td>0.0</td>\n",
       "      <td>0.0</td>\n",
       "      <td>0.0</td>\n",
       "      <td>0.0</td>\n",
       "      <td>0.0</td>\n",
       "      <td>0.0</td>\n",
       "      <td>1.0</td>\n",
       "    </tr>\n",
       "    <tr>\n",
       "      <th>3</th>\n",
       "      <td>Fungal infection</td>\n",
       "      <td>0.0</td>\n",
       "      <td>0.0</td>\n",
       "      <td>0.0</td>\n",
       "      <td>0.0</td>\n",
       "      <td>0.0</td>\n",
       "      <td>0.0</td>\n",
       "      <td>0.0</td>\n",
       "      <td>0.0</td>\n",
       "      <td>0.0</td>\n",
       "      <td>...</td>\n",
       "      <td>0.0</td>\n",
       "      <td>0.0</td>\n",
       "      <td>0.0</td>\n",
       "      <td>0.0</td>\n",
       "      <td>0.0</td>\n",
       "      <td>0.0</td>\n",
       "      <td>0.0</td>\n",
       "      <td>0.0</td>\n",
       "      <td>0.0</td>\n",
       "      <td>1.0</td>\n",
       "    </tr>\n",
       "    <tr>\n",
       "      <th>4</th>\n",
       "      <td>Fungal infection</td>\n",
       "      <td>0.0</td>\n",
       "      <td>0.0</td>\n",
       "      <td>0.0</td>\n",
       "      <td>0.0</td>\n",
       "      <td>0.0</td>\n",
       "      <td>0.0</td>\n",
       "      <td>0.0</td>\n",
       "      <td>0.0</td>\n",
       "      <td>0.0</td>\n",
       "      <td>...</td>\n",
       "      <td>0.0</td>\n",
       "      <td>0.0</td>\n",
       "      <td>0.0</td>\n",
       "      <td>0.0</td>\n",
       "      <td>0.0</td>\n",
       "      <td>0.0</td>\n",
       "      <td>0.0</td>\n",
       "      <td>0.0</td>\n",
       "      <td>0.0</td>\n",
       "      <td>1.0</td>\n",
       "    </tr>\n",
       "  </tbody>\n",
       "</table>\n",
       "<p>5 rows × 132 columns</p>\n",
       "</div>"
      ],
      "text/plain": [
       "value             label   abdominal_pain   abnormal_menstruation   acidity  \\\n",
       "index                                                                        \n",
       "0      Fungal infection              0.0                     0.0       0.0   \n",
       "1      Fungal infection              0.0                     0.0       0.0   \n",
       "2      Fungal infection              0.0                     0.0       0.0   \n",
       "3      Fungal infection              0.0                     0.0       0.0   \n",
       "4      Fungal infection              0.0                     0.0       0.0   \n",
       "\n",
       "value   acute_liver_failure   altered_sensorium   anxiety   back_pain  \\\n",
       "index                                                                   \n",
       "0                       0.0                 0.0       0.0         0.0   \n",
       "1                       0.0                 0.0       0.0         0.0   \n",
       "2                       0.0                 0.0       0.0         0.0   \n",
       "3                       0.0                 0.0       0.0         0.0   \n",
       "4                       0.0                 0.0       0.0         0.0   \n",
       "\n",
       "value   belly_pain   blackheads  ...   watering_from_eyes   weakness_in_limbs  \\\n",
       "index                            ...                                            \n",
       "0              0.0          0.0  ...                  0.0                 0.0   \n",
       "1              0.0          0.0  ...                  0.0                 0.0   \n",
       "2              0.0          0.0  ...                  0.0                 0.0   \n",
       "3              0.0          0.0  ...                  0.0                 0.0   \n",
       "4              0.0          0.0  ...                  0.0                 0.0   \n",
       "\n",
       "value   weakness_of_one_body_side   weight_gain   weight_loss  \\\n",
       "index                                                           \n",
       "0                             0.0           0.0           0.0   \n",
       "1                             0.0           0.0           0.0   \n",
       "2                             0.0           0.0           0.0   \n",
       "3                             0.0           0.0           0.0   \n",
       "4                             0.0           0.0           0.0   \n",
       "\n",
       "value   yellow_crust_ooze   yellow_urine   yellowing_of_eyes   yellowish_skin  \\\n",
       "index                                                                           \n",
       "0                     0.0            0.0                 0.0              0.0   \n",
       "1                     0.0            0.0                 0.0              0.0   \n",
       "2                     0.0            0.0                 0.0              0.0   \n",
       "3                     0.0            0.0                 0.0              0.0   \n",
       "4                     0.0            0.0                 0.0              0.0   \n",
       "\n",
       "value  itching  \n",
       "index           \n",
       "0          1.0  \n",
       "1          0.0  \n",
       "2          1.0  \n",
       "3          1.0  \n",
       "4          1.0  \n",
       "\n",
       "[5 rows x 132 columns]"
      ]
     },
     "execution_count": 12,
     "metadata": {},
     "output_type": "execute_result"
    }
   ],
   "source": [
    "tmp = pd.melt(data.reset_index() ,id_vars = ['index'], value_vars = cols )\n",
    "tmp['add'] = 1\n",
    "df = pd.pivot_table(tmp, values = 'add',index = 'index', columns = 'value')\n",
    "df.insert(0,'label',data['Disease'])\n",
    "df = df.fillna(0)\n",
    "df.head()"
   ]
  },
  {
   "cell_type": "code",
   "execution_count": 13,
   "id": "backed-origin",
   "metadata": {
    "execution": {
     "iopub.execute_input": "2021-06-24T05:54:48.476263Z",
     "iopub.status.busy": "2021-06-24T05:54:48.475417Z",
     "iopub.status.idle": "2021-06-24T05:54:48.478225Z",
     "shell.execute_reply": "2021-06-24T05:54:48.478630Z",
     "shell.execute_reply.started": "2021-06-24T05:45:48.319277Z"
    },
    "papermill": {
     "duration": 0.025005,
     "end_time": "2021-06-24T05:54:48.478782",
     "exception": false,
     "start_time": "2021-06-24T05:54:48.453777",
     "status": "completed"
    },
    "tags": []
   },
   "outputs": [
    {
     "name": "stdout",
     "output_type": "stream",
     "text": [
      "shapeof new dataset (4920, 132)\n"
     ]
    }
   ],
   "source": [
    "print(\"shapeof new dataset\",df.shape)"
   ]
  },
  {
   "cell_type": "markdown",
   "id": "comparable-phase",
   "metadata": {
    "papermill": {
     "duration": 0.017066,
     "end_time": "2021-06-24T05:54:48.513335",
     "exception": false,
     "start_time": "2021-06-24T05:54:48.496269",
     "status": "completed"
    },
    "tags": []
   },
   "source": [
    "Resplace the disease names with numeric value"
   ]
  },
  {
   "cell_type": "code",
   "execution_count": 14,
   "id": "chubby-output",
   "metadata": {
    "execution": {
     "iopub.execute_input": "2021-06-24T05:54:48.559229Z",
     "iopub.status.busy": "2021-06-24T05:54:48.558336Z",
     "iopub.status.idle": "2021-06-24T05:54:48.573325Z",
     "shell.execute_reply": "2021-06-24T05:54:48.572765Z",
     "shell.execute_reply.started": "2021-06-24T05:46:15.295982Z"
    },
    "papermill": {
     "duration": 0.040689,
     "end_time": "2021-06-24T05:54:48.573461",
     "exception": false,
     "start_time": "2021-06-24T05:54:48.532772",
     "status": "completed"
    },
    "tags": []
   },
   "outputs": [],
   "source": [
    "disease = {'Fungal infection':0,'Allergy':1,'GERD':2,'Chronic cholestasis':3,'Drug Reaction':4,\n",
    "    'Peptic ulcer diseae':5,'AIDS':6,'Diabetes ':7,'Gastroenteritis':8,'Bronchial Asthma':9,'Hypertension ':10,\n",
    "    'Migraine':11,'Cervical spondylosis':12,\n",
    "    'Paralysis (brain hemorrhage)':13,'Jaundice':14,'Malaria':15,'Chicken pox':16,'Dengue':17,'Typhoid':18,'hepatitis A':19,\n",
    "    'Hepatitis B':20,'Hepatitis C':21,'Hepatitis D':22,'Hepatitis E':23,'Alcoholic hepatitis':24,'Tuberculosis':25,\n",
    "    'Common Cold':26,'Pneumonia':27,'Dimorphic hemmorhoids(piles)':28,'Heart attack':29,'Varicose veins':30,'Hypothyroidism':31,\n",
    "    'Hyperthyroidism':32,'Hypoglycemia':33,'Osteoarthristis':34,'Arthritis':35,\n",
    "    '(vertigo) Paroymsal  Positional Vertigo':36,'Acne':37,'Urinary tract infection':38,'Psoriasis':39,\n",
    "    'Impetigo':40}\n",
    "df.replace({'label':disease},inplace = True)"
   ]
  },
  {
   "cell_type": "code",
   "execution_count": 15,
   "id": "centered-nancy",
   "metadata": {
    "execution": {
     "iopub.execute_input": "2021-06-24T05:54:48.612930Z",
     "iopub.status.busy": "2021-06-24T05:54:48.612391Z",
     "iopub.status.idle": "2021-06-24T05:54:48.639168Z",
     "shell.execute_reply": "2021-06-24T05:54:48.639574Z",
     "shell.execute_reply.started": "2021-06-24T05:46:24.535873Z"
    },
    "papermill": {
     "duration": 0.048116,
     "end_time": "2021-06-24T05:54:48.639740",
     "exception": false,
     "start_time": "2021-06-24T05:54:48.591624",
     "status": "completed"
    },
    "tags": []
   },
   "outputs": [
    {
     "data": {
      "text/html": [
       "<div>\n",
       "<style scoped>\n",
       "    .dataframe tbody tr th:only-of-type {\n",
       "        vertical-align: middle;\n",
       "    }\n",
       "\n",
       "    .dataframe tbody tr th {\n",
       "        vertical-align: top;\n",
       "    }\n",
       "\n",
       "    .dataframe thead th {\n",
       "        text-align: right;\n",
       "    }\n",
       "</style>\n",
       "<table border=\"1\" class=\"dataframe\">\n",
       "  <thead>\n",
       "    <tr style=\"text-align: right;\">\n",
       "      <th>value</th>\n",
       "      <th>label</th>\n",
       "      <th>abdominal_pain</th>\n",
       "      <th>abnormal_menstruation</th>\n",
       "      <th>acidity</th>\n",
       "      <th>acute_liver_failure</th>\n",
       "      <th>altered_sensorium</th>\n",
       "      <th>anxiety</th>\n",
       "      <th>back_pain</th>\n",
       "      <th>belly_pain</th>\n",
       "      <th>blackheads</th>\n",
       "      <th>...</th>\n",
       "      <th>watering_from_eyes</th>\n",
       "      <th>weakness_in_limbs</th>\n",
       "      <th>weakness_of_one_body_side</th>\n",
       "      <th>weight_gain</th>\n",
       "      <th>weight_loss</th>\n",
       "      <th>yellow_crust_ooze</th>\n",
       "      <th>yellow_urine</th>\n",
       "      <th>yellowing_of_eyes</th>\n",
       "      <th>yellowish_skin</th>\n",
       "      <th>itching</th>\n",
       "    </tr>\n",
       "    <tr>\n",
       "      <th>index</th>\n",
       "      <th></th>\n",
       "      <th></th>\n",
       "      <th></th>\n",
       "      <th></th>\n",
       "      <th></th>\n",
       "      <th></th>\n",
       "      <th></th>\n",
       "      <th></th>\n",
       "      <th></th>\n",
       "      <th></th>\n",
       "      <th></th>\n",
       "      <th></th>\n",
       "      <th></th>\n",
       "      <th></th>\n",
       "      <th></th>\n",
       "      <th></th>\n",
       "      <th></th>\n",
       "      <th></th>\n",
       "      <th></th>\n",
       "      <th></th>\n",
       "      <th></th>\n",
       "    </tr>\n",
       "  </thead>\n",
       "  <tbody>\n",
       "    <tr>\n",
       "      <th>0</th>\n",
       "      <td>0</td>\n",
       "      <td>0.0</td>\n",
       "      <td>0.0</td>\n",
       "      <td>0.0</td>\n",
       "      <td>0.0</td>\n",
       "      <td>0.0</td>\n",
       "      <td>0.0</td>\n",
       "      <td>0.0</td>\n",
       "      <td>0.0</td>\n",
       "      <td>0.0</td>\n",
       "      <td>...</td>\n",
       "      <td>0.0</td>\n",
       "      <td>0.0</td>\n",
       "      <td>0.0</td>\n",
       "      <td>0.0</td>\n",
       "      <td>0.0</td>\n",
       "      <td>0.0</td>\n",
       "      <td>0.0</td>\n",
       "      <td>0.0</td>\n",
       "      <td>0.0</td>\n",
       "      <td>1.0</td>\n",
       "    </tr>\n",
       "    <tr>\n",
       "      <th>1</th>\n",
       "      <td>0</td>\n",
       "      <td>0.0</td>\n",
       "      <td>0.0</td>\n",
       "      <td>0.0</td>\n",
       "      <td>0.0</td>\n",
       "      <td>0.0</td>\n",
       "      <td>0.0</td>\n",
       "      <td>0.0</td>\n",
       "      <td>0.0</td>\n",
       "      <td>0.0</td>\n",
       "      <td>...</td>\n",
       "      <td>0.0</td>\n",
       "      <td>0.0</td>\n",
       "      <td>0.0</td>\n",
       "      <td>0.0</td>\n",
       "      <td>0.0</td>\n",
       "      <td>0.0</td>\n",
       "      <td>0.0</td>\n",
       "      <td>0.0</td>\n",
       "      <td>0.0</td>\n",
       "      <td>0.0</td>\n",
       "    </tr>\n",
       "    <tr>\n",
       "      <th>2</th>\n",
       "      <td>0</td>\n",
       "      <td>0.0</td>\n",
       "      <td>0.0</td>\n",
       "      <td>0.0</td>\n",
       "      <td>0.0</td>\n",
       "      <td>0.0</td>\n",
       "      <td>0.0</td>\n",
       "      <td>0.0</td>\n",
       "      <td>0.0</td>\n",
       "      <td>0.0</td>\n",
       "      <td>...</td>\n",
       "      <td>0.0</td>\n",
       "      <td>0.0</td>\n",
       "      <td>0.0</td>\n",
       "      <td>0.0</td>\n",
       "      <td>0.0</td>\n",
       "      <td>0.0</td>\n",
       "      <td>0.0</td>\n",
       "      <td>0.0</td>\n",
       "      <td>0.0</td>\n",
       "      <td>1.0</td>\n",
       "    </tr>\n",
       "    <tr>\n",
       "      <th>3</th>\n",
       "      <td>0</td>\n",
       "      <td>0.0</td>\n",
       "      <td>0.0</td>\n",
       "      <td>0.0</td>\n",
       "      <td>0.0</td>\n",
       "      <td>0.0</td>\n",
       "      <td>0.0</td>\n",
       "      <td>0.0</td>\n",
       "      <td>0.0</td>\n",
       "      <td>0.0</td>\n",
       "      <td>...</td>\n",
       "      <td>0.0</td>\n",
       "      <td>0.0</td>\n",
       "      <td>0.0</td>\n",
       "      <td>0.0</td>\n",
       "      <td>0.0</td>\n",
       "      <td>0.0</td>\n",
       "      <td>0.0</td>\n",
       "      <td>0.0</td>\n",
       "      <td>0.0</td>\n",
       "      <td>1.0</td>\n",
       "    </tr>\n",
       "    <tr>\n",
       "      <th>4</th>\n",
       "      <td>0</td>\n",
       "      <td>0.0</td>\n",
       "      <td>0.0</td>\n",
       "      <td>0.0</td>\n",
       "      <td>0.0</td>\n",
       "      <td>0.0</td>\n",
       "      <td>0.0</td>\n",
       "      <td>0.0</td>\n",
       "      <td>0.0</td>\n",
       "      <td>0.0</td>\n",
       "      <td>...</td>\n",
       "      <td>0.0</td>\n",
       "      <td>0.0</td>\n",
       "      <td>0.0</td>\n",
       "      <td>0.0</td>\n",
       "      <td>0.0</td>\n",
       "      <td>0.0</td>\n",
       "      <td>0.0</td>\n",
       "      <td>0.0</td>\n",
       "      <td>0.0</td>\n",
       "      <td>1.0</td>\n",
       "    </tr>\n",
       "  </tbody>\n",
       "</table>\n",
       "<p>5 rows × 132 columns</p>\n",
       "</div>"
      ],
      "text/plain": [
       "value  label   abdominal_pain   abnormal_menstruation   acidity  \\\n",
       "index                                                             \n",
       "0          0              0.0                     0.0       0.0   \n",
       "1          0              0.0                     0.0       0.0   \n",
       "2          0              0.0                     0.0       0.0   \n",
       "3          0              0.0                     0.0       0.0   \n",
       "4          0              0.0                     0.0       0.0   \n",
       "\n",
       "value   acute_liver_failure   altered_sensorium   anxiety   back_pain  \\\n",
       "index                                                                   \n",
       "0                       0.0                 0.0       0.0         0.0   \n",
       "1                       0.0                 0.0       0.0         0.0   \n",
       "2                       0.0                 0.0       0.0         0.0   \n",
       "3                       0.0                 0.0       0.0         0.0   \n",
       "4                       0.0                 0.0       0.0         0.0   \n",
       "\n",
       "value   belly_pain   blackheads  ...   watering_from_eyes   weakness_in_limbs  \\\n",
       "index                            ...                                            \n",
       "0              0.0          0.0  ...                  0.0                 0.0   \n",
       "1              0.0          0.0  ...                  0.0                 0.0   \n",
       "2              0.0          0.0  ...                  0.0                 0.0   \n",
       "3              0.0          0.0  ...                  0.0                 0.0   \n",
       "4              0.0          0.0  ...                  0.0                 0.0   \n",
       "\n",
       "value   weakness_of_one_body_side   weight_gain   weight_loss  \\\n",
       "index                                                           \n",
       "0                             0.0           0.0           0.0   \n",
       "1                             0.0           0.0           0.0   \n",
       "2                             0.0           0.0           0.0   \n",
       "3                             0.0           0.0           0.0   \n",
       "4                             0.0           0.0           0.0   \n",
       "\n",
       "value   yellow_crust_ooze   yellow_urine   yellowing_of_eyes   yellowish_skin  \\\n",
       "index                                                                           \n",
       "0                     0.0            0.0                 0.0              0.0   \n",
       "1                     0.0            0.0                 0.0              0.0   \n",
       "2                     0.0            0.0                 0.0              0.0   \n",
       "3                     0.0            0.0                 0.0              0.0   \n",
       "4                     0.0            0.0                 0.0              0.0   \n",
       "\n",
       "value  itching  \n",
       "index           \n",
       "0          1.0  \n",
       "1          0.0  \n",
       "2          1.0  \n",
       "3          1.0  \n",
       "4          1.0  \n",
       "\n",
       "[5 rows x 132 columns]"
      ]
     },
     "execution_count": 15,
     "metadata": {},
     "output_type": "execute_result"
    }
   ],
   "source": [
    "df.head()"
   ]
  },
  {
   "cell_type": "code",
   "execution_count": 16,
   "id": "actual-plaintiff",
   "metadata": {
    "execution": {
     "iopub.execute_input": "2021-06-24T05:54:48.684361Z",
     "iopub.status.busy": "2021-06-24T05:54:48.683527Z",
     "iopub.status.idle": "2021-06-24T05:54:48.689822Z",
     "shell.execute_reply": "2021-06-24T05:54:48.690304Z",
     "shell.execute_reply.started": "2021-06-24T05:47:17.481861Z"
    },
    "papermill": {
     "duration": 0.027851,
     "end_time": "2021-06-24T05:54:48.690485",
     "exception": false,
     "start_time": "2021-06-24T05:54:48.662634",
     "status": "completed"
    },
    "tags": []
   },
   "outputs": [],
   "source": [
    "X = df.drop(\"label\",axis = 1)\n",
    "y = df['label']"
   ]
  },
  {
   "cell_type": "markdown",
   "id": "binary-caribbean",
   "metadata": {
    "papermill": {
     "duration": 0.025327,
     "end_time": "2021-06-24T05:54:48.734247",
     "exception": false,
     "start_time": "2021-06-24T05:54:48.708920",
     "status": "completed"
    },
    "tags": []
   },
   "source": [
    "Random forest"
   ]
  },
  {
   "cell_type": "code",
   "execution_count": 17,
   "id": "embedded-occasion",
   "metadata": {
    "execution": {
     "iopub.execute_input": "2021-06-24T05:54:48.776519Z",
     "iopub.status.busy": "2021-06-24T05:54:48.775712Z",
     "iopub.status.idle": "2021-06-24T05:54:48.779780Z",
     "shell.execute_reply": "2021-06-24T05:54:48.780252Z",
     "shell.execute_reply.started": "2021-06-24T05:48:43.312353Z"
    },
    "papermill": {
     "duration": 0.027214,
     "end_time": "2021-06-24T05:54:48.780399",
     "exception": false,
     "start_time": "2021-06-24T05:54:48.753185",
     "status": "completed"
    },
    "tags": []
   },
   "outputs": [],
   "source": [
    "model=RandomForestClassifier(n_estimators=50)\n",
    "\n",
    "#fold as 5\n",
    "cv = KFold(n_splits=5, shuffle=False)"
   ]
  },
  {
   "cell_type": "code",
   "execution_count": 18,
   "id": "fresh-teens",
   "metadata": {
    "execution": {
     "iopub.execute_input": "2021-06-24T05:54:48.823561Z",
     "iopub.status.busy": "2021-06-24T05:54:48.822747Z",
     "iopub.status.idle": "2021-06-24T05:54:48.894858Z",
     "shell.execute_reply": "2021-06-24T05:54:48.894378Z",
     "shell.execute_reply.started": "2021-06-24T05:50:25.304288Z"
    },
    "papermill": {
     "duration": 0.093035,
     "end_time": "2021-06-24T05:54:48.894992",
     "exception": false,
     "start_time": "2021-06-24T05:54:48.801957",
     "status": "completed"
    },
    "tags": []
   },
   "outputs": [
    {
     "name": "stdout",
     "output_type": "stream",
     "text": [
      "Accuracy:\n"
     ]
    },
    {
     "ename": "NameError",
     "evalue": "name 'x' is not defined",
     "output_type": "error",
     "traceback": [
      "\u001b[0;31m---------------------------------------------------------------------------\u001b[0m",
      "\u001b[0;31mNameError\u001b[0m                                 Traceback (most recent call last)",
      "\u001b[0;32m<ipython-input-18-4c3a47b3b63f>\u001b[0m in \u001b[0;36m<module>\u001b[0;34m\u001b[0m\n\u001b[1;32m      1\u001b[0m \u001b[0mprint\u001b[0m\u001b[0;34m(\u001b[0m\u001b[0;34m\"Accuracy:\"\u001b[0m\u001b[0;34m,\u001b[0m\u001b[0;34m)\u001b[0m\u001b[0;34m\u001b[0m\u001b[0;34m\u001b[0m\u001b[0m\n\u001b[0;32m----> 2\u001b[0;31m \u001b[0mscore\u001b[0m \u001b[0;34m=\u001b[0m \u001b[0mcross_val_score\u001b[0m\u001b[0;34m(\u001b[0m\u001b[0mmodel\u001b[0m\u001b[0;34m,\u001b[0m \u001b[0mx\u001b[0m\u001b[0;34m,\u001b[0m \u001b[0my\u001b[0m\u001b[0;34m,\u001b[0m \u001b[0mcv\u001b[0m\u001b[0;34m=\u001b[0m\u001b[0mcv\u001b[0m\u001b[0;34m)\u001b[0m\u001b[0;34m\u001b[0m\u001b[0;34m\u001b[0m\u001b[0m\n\u001b[0m\u001b[1;32m      3\u001b[0m \u001b[0mprint\u001b[0m\u001b[0;34m(\u001b[0m\u001b[0;34m(\u001b[0m\u001b[0msum\u001b[0m\u001b[0;34m(\u001b[0m\u001b[0mscore\u001b[0m\u001b[0;34m)\u001b[0m\u001b[0;34m/\u001b[0m\u001b[0;36m5\u001b[0m\u001b[0;34m)\u001b[0m\u001b[0;34m*\u001b[0m\u001b[0;36m100\u001b[0m\u001b[0;34m)\u001b[0m\u001b[0;34m\u001b[0m\u001b[0;34m\u001b[0m\u001b[0m\n",
      "\u001b[0;31mNameError\u001b[0m: name 'x' is not defined"
     ]
    }
   ],
   "source": [
    "print(\"Accuracy:\",)\n",
    "score = cross_val_score(model, x, y, cv=cv)\n",
    "print((sum(score)/5)*100)\n"
   ]
  },
  {
   "cell_type": "code",
   "execution_count": 19,
   "id": "unavailable-charger",
   "metadata": {
    "execution": {
     "iopub.execute_input": "2021-06-24T05:54:48.936123Z",
     "iopub.status.busy": "2021-06-24T05:54:48.935278Z",
     "iopub.status.idle": "2021-06-24T05:54:48.938866Z",
     "shell.execute_reply": "2021-06-24T05:54:48.939324Z",
     "shell.execute_reply.started": "2021-06-24T05:51:27.632967Z"
    },
    "papermill": {
     "duration": 0.025649,
     "end_time": "2021-06-24T05:54:48.939482",
     "exception": false,
     "start_time": "2021-06-24T05:54:48.913833",
     "status": "completed"
    },
    "tags": []
   },
   "outputs": [],
   "source": [
    "from sklearn.metrics import make_scorer, accuracy_score, precision_score, recall_score, f1_score"
   ]
  },
  {
   "cell_type": "code",
   "execution_count": 20,
   "id": "approved-modeling",
   "metadata": {
    "execution": {
     "iopub.execute_input": "2021-06-24T05:54:48.983431Z",
     "iopub.status.busy": "2021-06-24T05:54:48.982468Z",
     "iopub.status.idle": "2021-06-24T05:54:50.049960Z",
     "shell.execute_reply": "2021-06-24T05:54:50.049420Z",
     "shell.execute_reply.started": "2021-06-24T05:51:30.972885Z"
    },
    "papermill": {
     "duration": 1.091879,
     "end_time": "2021-06-24T05:54:50.050153",
     "exception": false,
     "start_time": "2021-06-24T05:54:48.958274",
     "status": "completed"
    },
    "tags": []
   },
   "outputs": [
    {
     "name": "stdout",
     "output_type": "stream",
     "text": [
      "F1 score\n",
      "[1. 1. 1. 1. 1. 1. 1. 1. 1. 1. 1. 1. 1. 1. 1. 1. 1. 1. 1. 1. 1. 1. 1. 1.\n",
      " 1. 1. 1. 1. 1. 1. 1. 1. 1. 1. 1. 1. 1. 1. 1. 1. 1.]\n",
      "[1. 1. 1. 1. 1. 1. 1. 1. 1. 1. 1. 1. 1. 1. 1. 1. 1. 1. 1. 1. 1. 1. 1. 1.\n",
      " 1. 1. 1. 1. 1. 1. 1. 1. 1. 1. 1. 1. 1. 1. 1. 1. 1.]\n",
      "[1. 1. 1. 1. 1. 1. 1. 1. 1. 1. 1. 1. 1. 1. 1. 1. 1. 1. 1. 1. 1. 1. 1. 1.\n",
      " 1. 1. 1. 1. 1. 1. 1. 1. 1. 1. 1. 1. 1. 1. 1. 1. 1.]\n",
      "[1. 1. 1. 1. 1. 1. 1. 1. 1. 1. 1. 1. 1. 1. 1. 1. 1. 1. 1. 1. 1. 1. 1. 1.\n",
      " 1. 1. 1. 1. 1. 1. 1. 1. 1. 1. 1. 1. 1. 1. 1. 1. 1.]\n",
      "[1. 1. 1. 1. 1. 1. 1. 1. 1. 1. 1. 1. 1. 1. 1. 1. 1. 1. 1. 1. 1. 1. 1. 1.\n",
      " 1. 1. 1. 1. 1. 1. 1. 1. 1. 1. 1. 1. 1. 1. 1. 1. 1.]\n"
     ]
    }
   ],
   "source": [
    "#calculating f1 score for all the folds\n",
    "print(\"F1 score\")\n",
    "for train_index, test_index in cv.split(X):\n",
    "        X_train, X_test = X.iloc[train_index], X.iloc[test_index]\n",
    "        y_train, y_test = y.iloc[train_index], y.iloc[test_index]\n",
    "        model = model.fit(X_train, y_train)\n",
    "        y_pred = model.predict(X_test)\n",
    "        print(f1_score(y_test, y_pred, average=None))"
   ]
  },
  {
   "cell_type": "code",
   "execution_count": 21,
   "id": "julian-recycling",
   "metadata": {
    "execution": {
     "iopub.execute_input": "2021-06-24T05:54:50.097954Z",
     "iopub.status.busy": "2021-06-24T05:54:50.096405Z",
     "iopub.status.idle": "2021-06-24T05:54:51.199037Z",
     "shell.execute_reply": "2021-06-24T05:54:51.199465Z",
     "shell.execute_reply.started": "2021-06-24T05:52:18.548558Z"
    },
    "papermill": {
     "duration": 1.128337,
     "end_time": "2021-06-24T05:54:51.199630",
     "exception": false,
     "start_time": "2021-06-24T05:54:50.071293",
     "status": "completed"
    },
    "tags": []
   },
   "outputs": [
    {
     "name": "stdout",
     "output_type": "stream",
     "text": [
      "precision\n",
      "[1. 1. 1. 1. 1. 1. 1. 1. 1. 1. 1. 1. 1. 1. 1. 1. 1. 1. 1. 1. 1. 1. 1. 1.\n",
      " 1. 1. 1. 1. 1. 1. 1. 1. 1. 1. 1. 1. 1. 1. 1. 1. 1.]\n",
      "[1. 1. 1. 1. 1. 1. 1. 1. 1. 1. 1. 1. 1. 1. 1. 1. 1. 1. 1. 1. 1. 1. 1. 1.\n",
      " 1. 1. 1. 1. 1. 1. 1. 1. 1. 1. 1. 1. 1. 1. 1. 1. 1.]\n",
      "[1. 1. 1. 1. 1. 1. 1. 1. 1. 1. 1. 1. 1. 1. 1. 1. 1. 1. 1. 1. 1. 1. 1. 1.\n",
      " 1. 1. 1. 1. 1. 1. 1. 1. 1. 1. 1. 1. 1. 1. 1. 1. 1.]\n",
      "[1. 1. 1. 1. 1. 1. 1. 1. 1. 1. 1. 1. 1. 1. 1. 1. 1. 1. 1. 1. 1. 1. 1. 1.\n",
      " 1. 1. 1. 1. 1. 1. 1. 1. 1. 1. 1. 1. 1. 1. 1. 1. 1.]\n",
      "[1. 1. 1. 1. 1. 1. 1. 1. 1. 1. 1. 1. 1. 1. 1. 1. 1. 1. 1. 1. 1. 1. 1. 1.\n",
      " 1. 1. 1. 1. 1. 1. 1. 1. 1. 1. 1. 1. 1. 1. 1. 1. 1.]\n"
     ]
    }
   ],
   "source": [
    "#calculating precision score for all the folds\n",
    "print(\"precision\")\n",
    "for train_index, test_index in cv.split(X):\n",
    "        X_train, X_test = X.iloc[train_index], X.iloc[test_index]\n",
    "        y_train, y_test = y.iloc[train_index], y.iloc[test_index]\n",
    "        model = model.fit(X_train, y_train)\n",
    "        y_pred = model.predict(X_test)\n",
    "        print(precision_score(y_test, y_pred, average=None))"
   ]
  },
  {
   "cell_type": "code",
   "execution_count": 22,
   "id": "dutch-latin",
   "metadata": {
    "execution": {
     "iopub.execute_input": "2021-06-24T05:54:51.248472Z",
     "iopub.status.busy": "2021-06-24T05:54:51.247899Z",
     "iopub.status.idle": "2021-06-24T05:54:52.311457Z",
     "shell.execute_reply": "2021-06-24T05:54:52.311985Z",
     "shell.execute_reply.started": "2021-06-24T05:52:31.341307Z"
    },
    "papermill": {
     "duration": 1.090729,
     "end_time": "2021-06-24T05:54:52.312160",
     "exception": false,
     "start_time": "2021-06-24T05:54:51.221431",
     "status": "completed"
    },
    "tags": []
   },
   "outputs": [
    {
     "name": "stdout",
     "output_type": "stream",
     "text": [
      "recall:\n",
      "[1. 1. 1. 1. 1. 1. 1. 1. 1. 1. 1. 1. 1. 1. 1. 1. 1. 1. 1. 1. 1. 1. 1. 1.\n",
      " 1. 1. 1. 1. 1. 1. 1. 1. 1. 1. 1. 1. 1. 1. 1. 1. 1.]\n",
      "[1. 1. 1. 1. 1. 1. 1. 1. 1. 1. 1. 1. 1. 1. 1. 1. 1. 1. 1. 1. 1. 1. 1. 1.\n",
      " 1. 1. 1. 1. 1. 1. 1. 1. 1. 1. 1. 1. 1. 1. 1. 1. 1.]\n",
      "[1. 1. 1. 1. 1. 1. 1. 1. 1. 1. 1. 1. 1. 1. 1. 1. 1. 1. 1. 1. 1. 1. 1. 1.\n",
      " 1. 1. 1. 1. 1. 1. 1. 1. 1. 1. 1. 1. 1. 1. 1. 1. 1.]\n",
      "[1. 1. 1. 1. 1. 1. 1. 1. 1. 1. 1. 1. 1. 1. 1. 1. 1. 1. 1. 1. 1. 1. 1. 1.\n",
      " 1. 1. 1. 1. 1. 1. 1. 1. 1. 1. 1. 1. 1. 1. 1. 1. 1.]\n",
      "[1. 1. 1. 1. 1. 1. 1. 1. 1. 1. 1. 1. 1. 1. 1. 1. 1. 1. 1. 1. 1. 1. 1. 1.\n",
      " 1. 1. 1. 1. 1. 1. 1. 1. 1. 1. 1. 1. 1. 1. 1. 1. 1.]\n"
     ]
    }
   ],
   "source": [
    "#calculating recall score for all the folds\n",
    "print(\"recall:\")\n",
    "for train_index, test_index in cv.split(X):\n",
    "        X_train, X_test = X.iloc[train_index], X.iloc[test_index]\n",
    "        y_train, y_test = y.iloc[train_index], y.iloc[test_index]\n",
    "        model = model.fit(X_train, y_train)\n",
    "        y_pred = model.predict(X_test)\n",
    "        print(recall_score(y_test, y_pred, average=None))"
   ]
  },
  {
   "cell_type": "code",
   "execution_count": null,
   "id": "limiting-scott",
   "metadata": {
    "papermill": {
     "duration": 0.023473,
     "end_time": "2021-06-24T05:54:52.358557",
     "exception": false,
     "start_time": "2021-06-24T05:54:52.335084",
     "status": "completed"
    },
    "tags": []
   },
   "outputs": [],
   "source": []
  }
 ],
 "metadata": {
  "kernelspec": {
   "display_name": "Python 3",
   "language": "python",
   "name": "python3"
  },
  "language_info": {
   "codemirror_mode": {
    "name": "ipython",
    "version": 3
   },
   "file_extension": ".py",
   "mimetype": "text/x-python",
   "name": "python",
   "nbconvert_exporter": "python",
   "pygments_lexer": "ipython3",
   "version": "3.7.9"
  },
  "papermill": {
   "default_parameters": {},
   "duration": 11.78212,
   "end_time": "2021-06-24T05:54:52.991449",
   "environment_variables": {},
   "exception": null,
   "input_path": "__notebook__.ipynb",
   "output_path": "__notebook__.ipynb",
   "parameters": {},
   "start_time": "2021-06-24T05:54:41.209329",
   "version": "2.3.2"
  }
 },
 "nbformat": 4,
 "nbformat_minor": 5
}
