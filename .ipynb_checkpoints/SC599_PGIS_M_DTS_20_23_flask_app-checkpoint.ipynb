{
 "cells": [
  {
   "cell_type": "code",
   "execution_count": 55,
   "id": "antique-equivalent",
   "metadata": {},
   "outputs": [
    {
     "name": "stdout",
     "output_type": "stream",
     "text": [
      " * Serving Flask app \"__main__\" (lazy loading)\n",
      " * Environment: production\n",
      "   WARNING: This is a development server. Do not use it in a production deployment.\n",
      "   Use a production WSGI server instead.\n",
      " * Debug mode: off\n"
     ]
    },
    {
     "name": "stderr",
     "output_type": "stream",
     "text": [
      " * Running on http://127.0.0.1:5000/ (Press CTRL+C to quit)\n",
      "127.0.0.1 - - [08/Aug/2021 01:31:30] \"OPTIONS /predict HTTP/1.1\" 200 -\n",
      "127.0.0.1 - - [08/Aug/2021 01:31:30] \"POST /predict HTTP/1.1\" 200 -\n"
     ]
    },
    {
     "name": "stdout",
     "output_type": "stream",
     "text": [
      "<module 'json' from 'E:\\\\Geethanjana\\\\SOFT\\\\ANACONDA\\\\lib\\\\json\\\\__init__.py'>\n",
      "None\n"
     ]
    },
    {
     "name": "stderr",
     "output_type": "stream",
     "text": [
      "127.0.0.1 - - [08/Aug/2021 01:31:48] \"OPTIONS /predict HTTP/1.1\" 200 -\n",
      "127.0.0.1 - - [08/Aug/2021 01:31:48] \"POST /predict HTTP/1.1\" 200 -\n"
     ]
    },
    {
     "name": "stdout",
     "output_type": "stream",
     "text": [
      "<module 'json' from 'E:\\\\Geethanjana\\\\SOFT\\\\ANACONDA\\\\lib\\\\json\\\\__init__.py'>\n",
      "None\n"
     ]
    },
    {
     "name": "stderr",
     "output_type": "stream",
     "text": [
      "127.0.0.1 - - [08/Aug/2021 01:32:53] \"OPTIONS /predict HTTP/1.1\" 200 -\n",
      "127.0.0.1 - - [08/Aug/2021 01:32:53] \"POST /predict HTTP/1.1\" 200 -\n"
     ]
    },
    {
     "name": "stdout",
     "output_type": "stream",
     "text": [
      "<module 'json' from 'E:\\\\Geethanjana\\\\SOFT\\\\ANACONDA\\\\lib\\\\json\\\\__init__.py'>\n",
      "None\n"
     ]
    },
    {
     "name": "stderr",
     "output_type": "stream",
     "text": [
      "127.0.0.1 - - [08/Aug/2021 01:37:31] \"OPTIONS /predict HTTP/1.1\" 200 -\n",
      "127.0.0.1 - - [08/Aug/2021 01:37:32] \"POST /predict HTTP/1.1\" 200 -\n"
     ]
    },
    {
     "name": "stdout",
     "output_type": "stream",
     "text": [
      "<module 'json' from 'E:\\\\Geethanjana\\\\SOFT\\\\ANACONDA\\\\lib\\\\json\\\\__init__.py'>\n",
      "None\n"
     ]
    },
    {
     "name": "stderr",
     "output_type": "stream",
     "text": [
      "127.0.0.1 - - [08/Aug/2021 01:38:23] \"OPTIONS /predict HTTP/1.1\" 200 -\n",
      "127.0.0.1 - - [08/Aug/2021 01:38:23] \"POST /predict HTTP/1.1\" 200 -\n"
     ]
    },
    {
     "name": "stdout",
     "output_type": "stream",
     "text": [
      "<module 'json' from 'E:\\\\Geethanjana\\\\SOFT\\\\ANACONDA\\\\lib\\\\json\\\\__init__.py'>\n",
      "None\n"
     ]
    },
    {
     "name": "stderr",
     "output_type": "stream",
     "text": [
      "127.0.0.1 - - [08/Aug/2021 01:41:58] \"OPTIONS /predict HTTP/1.1\" 200 -\n",
      "127.0.0.1 - - [08/Aug/2021 01:41:58] \"POST /predict HTTP/1.1\" 200 -\n"
     ]
    },
    {
     "name": "stdout",
     "output_type": "stream",
     "text": [
      "<module 'json' from 'E:\\\\Geethanjana\\\\SOFT\\\\ANACONDA\\\\lib\\\\json\\\\__init__.py'>\n",
      "None\n"
     ]
    },
    {
     "name": "stderr",
     "output_type": "stream",
     "text": [
      "127.0.0.1 - - [08/Aug/2021 01:44:34] \"OPTIONS /predict HTTP/1.1\" 200 -\n",
      "127.0.0.1 - - [08/Aug/2021 01:44:34] \"POST /predict HTTP/1.1\" 200 -\n"
     ]
    },
    {
     "name": "stdout",
     "output_type": "stream",
     "text": [
      "<module 'json' from 'E:\\\\Geethanjana\\\\SOFT\\\\ANACONDA\\\\lib\\\\json\\\\__init__.py'>\n",
      "None\n"
     ]
    },
    {
     "name": "stderr",
     "output_type": "stream",
     "text": [
      "127.0.0.1 - - [08/Aug/2021 01:44:39] \"POST /predict HTTP/1.1\" 200 -\n"
     ]
    },
    {
     "name": "stdout",
     "output_type": "stream",
     "text": [
      "<module 'json' from 'E:\\\\Geethanjana\\\\SOFT\\\\ANACONDA\\\\lib\\\\json\\\\__init__.py'>\n",
      "None\n"
     ]
    },
    {
     "name": "stderr",
     "output_type": "stream",
     "text": [
      "127.0.0.1 - - [08/Aug/2021 01:48:11] \"OPTIONS /predict HTTP/1.1\" 200 -\n",
      "127.0.0.1 - - [08/Aug/2021 01:48:11] \"POST /predict HTTP/1.1\" 200 -\n"
     ]
    },
    {
     "name": "stdout",
     "output_type": "stream",
     "text": [
      "<module 'json' from 'E:\\\\Geethanjana\\\\SOFT\\\\ANACONDA\\\\lib\\\\json\\\\__init__.py'>\n",
      "None\n"
     ]
    },
    {
     "name": "stderr",
     "output_type": "stream",
     "text": [
      "127.0.0.1 - - [08/Aug/2021 01:48:12] \"POST /predict HTTP/1.1\" 200 -\n"
     ]
    },
    {
     "name": "stdout",
     "output_type": "stream",
     "text": [
      "<module 'json' from 'E:\\\\Geethanjana\\\\SOFT\\\\ANACONDA\\\\lib\\\\json\\\\__init__.py'>\n",
      "None\n"
     ]
    },
    {
     "name": "stderr",
     "output_type": "stream",
     "text": [
      "127.0.0.1 - - [08/Aug/2021 01:50:53] \"OPTIONS /predict HTTP/1.1\" 200 -\n",
      "127.0.0.1 - - [08/Aug/2021 01:50:53] \"POST /predict HTTP/1.1\" 200 -\n"
     ]
    },
    {
     "name": "stdout",
     "output_type": "stream",
     "text": [
      "<module 'json' from 'E:\\\\Geethanjana\\\\SOFT\\\\ANACONDA\\\\lib\\\\json\\\\__init__.py'>\n",
      "None\n"
     ]
    },
    {
     "name": "stderr",
     "output_type": "stream",
     "text": [
      "Exception in callback BaseSelectorEventLoop._read_from_self()\n",
      "handle: <Handle BaseSelectorEventLoop._read_from_self()>\n",
      "Traceback (most recent call last):\n",
      "  File \"E:\\Geethanjana\\SOFT\\ANACONDA\\lib\\asyncio\\events.py\", line 88, in _run\n",
      "    self._context.run(self._callback, *self._args)\n",
      "  File \"E:\\Geethanjana\\SOFT\\ANACONDA\\lib\\asyncio\\selector_events.py\", line 119, in _read_from_self\n",
      "    data = self._ssock.recv(4096)\n",
      "ConnectionResetError: [WinError 10054] An existing connection was forcibly closed by the remote host\n",
      "Exception in callback BaseSelectorEventLoop._read_from_self()\n",
      "handle: <Handle BaseSelectorEventLoop._read_from_self()>\n",
      "Traceback (most recent call last):\n",
      "  File \"E:\\Geethanjana\\SOFT\\ANACONDA\\lib\\asyncio\\events.py\", line 88, in _run\n",
      "    self._context.run(self._callback, *self._args)\n",
      "  File \"E:\\Geethanjana\\SOFT\\ANACONDA\\lib\\asyncio\\selector_events.py\", line 119, in _read_from_self\n",
      "    data = self._ssock.recv(4096)\n",
      "ConnectionResetError: [WinError 10054] An existing connection was forcibly closed by the remote host\n"
     ]
    }
   ],
   "source": [
    "from flask import Flask, request, jsonify\n",
    "#from sklearn.externals import joblib\n",
    "import joblib\n",
    "import numpy as np\n",
    "import json\n",
    "from flask_cors import CORS\n",
    "\n",
    "app = Flask(__name__)\n",
    "cors = CORS(app)\n",
    "\n",
    "@app.route('/predict', methods=['POST'])\n",
    "def predict():\n",
    "    json_ = request.json\n",
    "    print(json)\n",
    "    inputs = np.array(json_)\n",
    "    print(inputs)\n",
    "    test = np.array(symptoms)\n",
    "    mask = np.in1d(np.array(symptoms), inputs).astype(int)\n",
    "    \n",
    "    predict = disease_predict_model.predict([mask])\n",
    "    disease_name = disease_names[str(predict[0])]\n",
    "    \n",
    "    return jsonify({'prediction': disease_name})\n",
    "    \n",
    "def readFile(file_path, data_type):\n",
    "    file = open(file_path)\n",
    "    if data_type == 'dict':\n",
    "        read_data = json.load(file)\n",
    "        file.close()\n",
    "        return read_data\n",
    "    elif data_type == 'arr':\n",
    "        read_data = file.read().splitlines()\n",
    "        file.close()\n",
    "        return read_data\n",
    "    else :\n",
    "        read_data = file.read()\n",
    "        file.close()\n",
    "        return read_data\n",
    "    \n",
    "if __name__ == '__main__':\n",
    "    disease_names = readFile('data/disease_names.json','dict')\n",
    "    symptoms = readFile('data/symptoms.txt','arr')\n",
    "    \n",
    "    disease_predict_model = joblib.load('random_forest.joblib')\n",
    "    \n",
    "    app.run(port=5000)"
   ]
  },
  {
   "cell_type": "code",
   "execution_count": null,
   "id": "public-apparatus",
   "metadata": {},
   "outputs": [],
   "source": []
  },
  {
   "cell_type": "code",
   "execution_count": null,
   "id": "everyday-thong",
   "metadata": {},
   "outputs": [],
   "source": []
  }
 ],
 "metadata": {
  "kernelspec": {
   "display_name": "Python 3",
   "language": "python",
   "name": "python3"
  },
  "language_info": {
   "codemirror_mode": {
    "name": "ipython",
    "version": 3
   },
   "file_extension": ".py",
   "mimetype": "text/x-python",
   "name": "python",
   "nbconvert_exporter": "python",
   "pygments_lexer": "ipython3",
   "version": "3.7.6"
  }
 },
 "nbformat": 4,
 "nbformat_minor": 5
}
