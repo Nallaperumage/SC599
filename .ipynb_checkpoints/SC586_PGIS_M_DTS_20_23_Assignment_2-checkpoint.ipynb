{
 "cells": [
  {
   "cell_type": "code",
   "execution_count": 1,
   "metadata": {},
   "outputs": [
    {
     "ename": "ModuleNotFoundError",
     "evalue": "No module named 'selenium'",
     "output_type": "error",
     "traceback": [
      "\u001b[0;31m---------------------------------------------------------------------------\u001b[0m",
      "\u001b[0;31mModuleNotFoundError\u001b[0m                       Traceback (most recent call last)",
      "\u001b[0;32m<ipython-input-1-520101ca42dd>\u001b[0m in \u001b[0;36m<module>\u001b[0;34m\u001b[0m\n\u001b[1;32m      1\u001b[0m \u001b[0;32mfrom\u001b[0m \u001b[0mtime\u001b[0m \u001b[0;32mimport\u001b[0m \u001b[0msleep\u001b[0m\u001b[0;34m\u001b[0m\u001b[0;34m\u001b[0m\u001b[0m\n\u001b[0;32m----> 2\u001b[0;31m \u001b[0;32mfrom\u001b[0m \u001b[0mselenium\u001b[0m \u001b[0;32mimport\u001b[0m \u001b[0mwebdriver\u001b[0m\u001b[0;34m\u001b[0m\u001b[0;34m\u001b[0m\u001b[0m\n\u001b[0m\u001b[1;32m      3\u001b[0m \u001b[0;32mimport\u001b[0m \u001b[0mrequests\u001b[0m\u001b[0;34m\u001b[0m\u001b[0;34m\u001b[0m\u001b[0m\n\u001b[1;32m      4\u001b[0m \u001b[0;32mimport\u001b[0m \u001b[0mcsv\u001b[0m\u001b[0;34m\u001b[0m\u001b[0;34m\u001b[0m\u001b[0m\n",
      "\u001b[0;31mModuleNotFoundError\u001b[0m: No module named 'selenium'"
     ]
    }
   ],
   "source": [
    "from time import sleep\n",
    "from selenium import webdriver\n",
    "import requests \n",
    "import csv"
   ]
  },
  {
   "cell_type": "code",
   "execution_count": 2,
   "metadata": {},
   "outputs": [],
   "source": [
    "driver_exe_path = \"/home/geethanjana/Datascience/SC599/chromedriver_linux64\"\n",
    "initial_url = \"https://www.mayoclinic.org/diseases-conditions/\""
   ]
  },
  {
   "cell_type": "code",
   "execution_count": 3,
   "metadata": {},
   "outputs": [],
   "source": [
    "driver = webdriver.Chrome(driver_exe_path)\n",
    "driver.get(initial_url);\n",
    "sleep(5)"
   ]
  },
  {
   "cell_type": "code",
   "execution_count": null,
   "metadata": {},
   "outputs": [],
   "source": [
    "url_list = set()\n",
    "\n",
    "def capture_links():\n",
    "    all_links = driver.find_elements_by_tag_name('a');"
   ]
  },
  {
   "cell_type": "code",
   "execution_count": 4,
   "metadata": {},
   "outputs": [],
   "source": [
    "item_url_list = set()\n",
    "\n",
    "def capture_product_links():\n",
    "    all_links = driver.find_elements_by_tag_name('a');\n",
    "    \n",
    "    for link in all_links:\n",
    "        href = link.get_attribute('href')\n",
    "        if href.startswith(\"https://www.ebay.com/itm/\"):\n",
    "            item_url_list.add(href)\n",
    "            \n",
    "        if href.startswith(\"https://www.ebay.com/p/\"):\n",
    "            sub_driver = webdriver.Chrome(driver_exe_path)\n",
    "            sub_driver.get(href)\n",
    "            sleep(2)\n",
    "            href = sub_driver.find_element_by_partial_link_text(\"See details\").get_attribute('href')\n",
    "            if href.startswith(\"https://www.ebay.com/itm/\"):\n",
    "                item_url_list.add(href)\n",
    "            sub_driver.quit()\n",
    "            "
   ]
  },
  {
   "cell_type": "code",
   "execution_count": 5,
   "metadata": {},
   "outputs": [
    {
     "name": "stdout",
     "output_type": "stream",
     "text": [
      "https://www.ebay.com/b/PC-Laptops-Netbooks/177/bn_317584\n"
     ]
    }
   ],
   "source": [
    "# route to electronics\n",
    "stat_link = driver.find_element_by_link_text(\"Electronics\")\n",
    "stat_link.click()\n",
    "sleep(2)\n",
    "\n",
    "# route to computers\n",
    "stat_link = driver.find_element_by_link_text(\"Computers, Tablets & Network Hardware\")\n",
    "stat_link.click()\n",
    "sleep(2)\n",
    "\n",
    "# route to laptops\n",
    "stat_link = driver.find_element_by_link_text(\"Laptops & Netbooks\")\n",
    "stat_link.click()\n",
    "sleep(2)\n",
    "\n",
    "# route to PCs\n",
    "stat_link = driver.find_element_by_link_text(\"PC Laptops & Netbooks\")\n",
    "stat_link.click()\n",
    "sleep(2)\n",
    "\n",
    "# filter to new PCs\n",
    "# stat_link = driver.find_element_by_id(\"s0-29-13_2-0-1[1]-0-6-0-multiselect[]\")\n",
    "# stat_link.click()\n",
    "# sleep(2)\n",
    "\n",
    "print(driver.current_url)"
   ]
  },
  {
   "cell_type": "code",
   "execution_count": 6,
   "metadata": {},
   "outputs": [],
   "source": [
    "def traverse_and_search_links():\n",
    "    prev_list = -1\n",
    "    current_list = 0\n",
    "\n",
    "    #     use condition current_list != prev_list to go through pagination & capture all \n",
    "    while int(current_list) < 100:\n",
    "        capture_product_links()\n",
    "        prev_list = current_list\n",
    "        next_button = driver.find_element_by_css_selector(\"a[rel='next']\")\n",
    "        next_button.click()\n",
    "        sleep(2)\n",
    "        current_list = driver.find_element_by_css_selector(\"li[class='ebayui-pagination__li ebayui-pagination__li--selected'] a\").text"
   ]
  },
  {
   "cell_type": "code",
   "execution_count": 7,
   "metadata": {},
   "outputs": [
    {
     "name": "stdout",
     "output_type": "stream",
     "text": [
      "1587\n"
     ]
    }
   ],
   "source": [
    "traverse_and_search_links()\n",
    "\n",
    "print(len(item_url_list))\n",
    "# print(\"\\n\".join(item_url_list))"
   ]
  },
  {
   "cell_type": "code",
   "execution_count": null,
   "metadata": {},
   "outputs": [],
   "source": [
    "with open(\"csv/ebay_laptop_details.csv\", mode=\"w\", newline=\"\", encoding='utf-8') as out_file:\n",
    "    ebay_info = csv.writer(out_file, delimiter=\",\", quotechar='\"', quoting = csv.QUOTE_MINIMAL)\n",
    "    ebay_info.writerow([\"title\", \"condition\", \"available_count\", \"sold_count\", \"price\", \"converted_price\", \"shipping_cost\", \"why_to_buy\"])\n",
    "\n",
    "    for url in  item_url_list:\n",
    "        \n",
    "        response = requests.get(url)\n",
    "        print(response)            \n",
    "        \n",
    "        if response.status_code == 200:\n",
    "            html_page = bs(response.content, \"html.parser\")\n",
    "        \n",
    "            title = html_page.find(\"h1\",{\"id\":\"itemTitle\"}).text\n",
    "        \n",
    "            condition = html_page.find(\"div\", {\"id\":\"vi-itm-cond\"})\n",
    "            if condition != None:\n",
    "                condition = condition.text\n",
    "            \n",
    "            available_count = html_page.find(\"span\",{\"id\":\"qtySubTxt\"})\n",
    "            if available_count != None:\n",
    "                available_count = available_count.find(\"span\").text\n",
    "                av_regex = r\"\\n\\t\\t\\t\\t\\t\\t\\t\\t(.*) (.*?)$\"\n",
    "                available_count = re.findall(av_regex,available_count)[0][0]\n",
    "            \n",
    "            sold_count = html_page.find(\"span\",{\"class\":[\"vi-qtyS\", \"vi-qtyS-hot-red\"]})\n",
    "            if sold_count != None:\n",
    "                sold_count= sold_count.find(\"a\").text\n",
    "                sc_regex = r\"(.*?) sold?\"\n",
    "                sold_count = re.findall(sc_regex, sold_count)[0]\n",
    "            \n",
    "            price = html_page.find(\"span\", {\"id\":\"prcIsum\"})\n",
    "            if price != None:\n",
    "                price = price.text\n",
    "            \n",
    "            price_in_usd = html_page.find(\"span\", {\"id\":[\"convbinPrice\", \"convbidPrice\"]})\n",
    "            if price_in_usd != None:\n",
    "                price_in_usd = price_in_usd.text\n",
    "                pid_regex = r\"US (.*?)\\(including shipping\\)?\"\n",
    "                price_in_usd = re.findall(pid_regex, price_in_usd)[0]\n",
    "            \n",
    "            shipping_cost = html_page.find(\"span\",{\"id\":\"fshippingCost\"})\n",
    "            if shipping_cost != None:\n",
    "                shipping_cost = shipping_cost.find(\"span\").text\n",
    "            \n",
    "            why_to_buy = html_page.find(\"div\", {\"id\":\"why2buy\"})\n",
    "            w2b_content_dict = {}\n",
    "            if why_to_buy != None:\n",
    "                why_to_buy_contents = why_to_buy.find_all(\"div\",{\"class\":\"w2b-cnt\"})\n",
    "            \n",
    "                for content in why_to_buy_contents:\n",
    "                    content_heading = content.find(\"span\",{\"class\":\"w2b-head\"})\n",
    "                    content_meaning = content.find(\"span\",{\"class\":\"w2b-subhead\"})\n",
    "                \n",
    "                    if content_heading != None:\n",
    "                        content_heading = content_heading.text\n",
    "                    if content_meaning != None:\n",
    "                        content_meaning = content_meaning.text\n",
    "                    \n",
    "                    w2b_content_dict[content_meaning] = content_heading\n",
    "\n",
    "            ebay_info.writerow([title, condition, available_count, sold_count, price, price_in_usd, shipping_cost, w2b_content_dict])\n",
    "#         print(\"{}, {}, {}, {}, {}, {}, {}\".format(title, condition, available_count, sold_count, price, shipping_cost, watchers))"
   ]
  }
 ],
 "metadata": {
  "kernelspec": {
   "display_name": "Python 3",
   "language": "python",
   "name": "python3"
  },
  "language_info": {
   "codemirror_mode": {
    "name": "ipython",
    "version": 3
   },
   "file_extension": ".py",
   "mimetype": "text/x-python",
   "name": "python",
   "nbconvert_exporter": "python",
   "pygments_lexer": "ipython3",
   "version": "3.8.8"
  }
 },
 "nbformat": 4,
 "nbformat_minor": 4
}
