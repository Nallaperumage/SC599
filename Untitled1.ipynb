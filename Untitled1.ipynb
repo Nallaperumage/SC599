{
 "cells": [
  {
   "cell_type": "markdown",
   "id": "interpreted-accused",
   "metadata": {},
   "source": [
    "### Findings"
   ]
  },
  {
   "cell_type": "code",
   "execution_count": 125,
   "id": "reduced-printing",
   "metadata": {},
   "outputs": [
    {
     "name": "stdout",
     "output_type": "stream",
     "text": [
      "['label' ' abdominal_pain' ' abnormal_menstruation' ' acidity'\n",
      " ' acute_liver_failure' ' altered_sensorium' ' anxiety' ' back_pain'\n",
      " ' belly_pain' ' blackheads' ' bladder_discomfort' ' blister'\n",
      " ' blood_in_sputum' ' bloody_stool' ' blurred_and_distorted_vision'\n",
      " ' breathlessness' ' brittle_nails' ' bruising' ' burning_micturition'\n",
      " ' chest_pain' ' chills' ' cold_hands_and_feets' ' coma' ' congestion'\n",
      " ' constipation' ' continuous_feel_of_urine' ' continuous_sneezing'\n",
      " ' cough' ' cramps' ' dark_urine' ' dehydration' ' depression'\n",
      " ' diarrhoea' ' dischromic _patches' ' distention_of_abdomen' ' dizziness'\n",
      " ' drying_and_tingling_lips' ' enlarged_thyroid' ' excessive_hunger'\n",
      " ' extra_marital_contacts' ' family_history' ' fast_heart_rate' ' fatigue'\n",
      " ' fluid_overload' ' foul_smell_of urine' ' headache' ' high_fever'\n",
      " ' hip_joint_pain' ' history_of_alcohol_consumption' ' increased_appetite'\n",
      " ' indigestion' ' inflammatory_nails' ' internal_itching'\n",
      " ' irregular_sugar_level' ' irritability' ' irritation_in_anus'\n",
      " ' joint_pain' ' knee_pain' ' lack_of_concentration' ' lethargy'\n",
      " ' loss_of_appetite' ' loss_of_balance' ' loss_of_smell' ' malaise'\n",
      " ' mild_fever' ' mood_swings' ' movement_stiffness' ' mucoid_sputum'\n",
      " ' muscle_pain' ' muscle_wasting' ' muscle_weakness' ' nausea'\n",
      " ' neck_pain' ' nodal_skin_eruptions' ' obesity' ' pain_behind_the_eyes'\n",
      " ' pain_during_bowel_movements' ' pain_in_anal_region' ' painful_walking'\n",
      " ' palpitations' ' passage_of_gases' ' patches_in_throat' ' phlegm'\n",
      " ' polyuria' ' prominent_veins_on_calf' ' puffy_face_and_eyes'\n",
      " ' pus_filled_pimples' ' receiving_blood_transfusion'\n",
      " ' receiving_unsterile_injections' ' red_sore_around_nose'\n",
      " ' red_spots_over_body' ' redness_of_eyes' ' restlessness' ' runny_nose'\n",
      " ' rusty_sputum' ' scurring' ' shivering' ' silver_like_dusting'\n",
      " ' sinus_pressure' ' skin_peeling' ' skin_rash' ' slurred_speech'\n",
      " ' small_dents_in_nails' ' spinning_movements' ' spotting_ urination'\n",
      " ' stiff_neck' ' stomach_bleeding' ' stomach_pain' ' sunken_eyes'\n",
      " ' sweating' ' swelled_lymph_nodes' ' swelling_joints'\n",
      " ' swelling_of_stomach' ' swollen_blood_vessels' ' swollen_extremeties'\n",
      " ' swollen_legs' ' throat_irritation' ' toxic_look_(typhos)'\n",
      " ' ulcers_on_tongue' ' unsteadiness' ' visual_disturbances' ' vomiting'\n",
      " ' watering_from_eyes' ' weakness_in_limbs' ' weakness_of_one_body_side'\n",
      " ' weight_gain' ' weight_loss' ' yellow_crust_ooze' ' yellow_urine'\n",
      " ' yellowing_of_eyes' ' yellowish_skin' 'itching']\n"
     ]
    },
    {
     "ename": "ValueError",
     "evalue": "shape mismatch: objects cannot be broadcast to a single shape",
     "output_type": "error",
     "traceback": [
      "\u001b[1;31m---------------------------------------------------------------------------\u001b[0m",
      "\u001b[1;31mValueError\u001b[0m                                Traceback (most recent call last)",
      "\u001b[1;32m<ipython-input-125-89b9a977c2b6>\u001b[0m in \u001b[0;36m<module>\u001b[1;34m\u001b[0m\n\u001b[0;32m     19\u001b[0m \u001b[0mtest\u001b[0m\u001b[1;33m=\u001b[0m \u001b[0mtest\u001b[0m\u001b[1;33m.\u001b[0m\u001b[0mastype\u001b[0m\u001b[1;33m(\u001b[0m\u001b[0mstr\u001b[0m\u001b[1;33m)\u001b[0m\u001b[1;33m\u001b[0m\u001b[1;33m\u001b[0m\u001b[0m\n\u001b[0;32m     20\u001b[0m \u001b[0mprint\u001b[0m\u001b[1;33m(\u001b[0m\u001b[0mtest\u001b[0m\u001b[1;33m)\u001b[0m\u001b[1;33m\u001b[0m\u001b[1;33m\u001b[0m\u001b[0m\n\u001b[1;32m---> 21\u001b[1;33m \u001b[0moutput_array\u001b[0m \u001b[1;33m=\u001b[0m \u001b[0mgetInput\u001b[0m\u001b[1;33m(\u001b[0m\u001b[0minputs\u001b[0m\u001b[1;33m,\u001b[0m\u001b[0mtest\u001b[0m\u001b[1;33m)\u001b[0m\u001b[1;33m\u001b[0m\u001b[1;33m\u001b[0m\u001b[0m\n\u001b[0m\u001b[0;32m     22\u001b[0m \u001b[0mprint\u001b[0m\u001b[1;33m(\u001b[0m\u001b[1;34m\"last\"\u001b[0m\u001b[1;33m)\u001b[0m\u001b[1;33m\u001b[0m\u001b[1;33m\u001b[0m\u001b[0m\n\u001b[0;32m     23\u001b[0m \u001b[0mprint\u001b[0m\u001b[1;33m(\u001b[0m\u001b[0moutput_array\u001b[0m\u001b[1;33m)\u001b[0m\u001b[1;33m\u001b[0m\u001b[1;33m\u001b[0m\u001b[0m\n",
      "\u001b[1;32m<ipython-input-125-89b9a977c2b6>\u001b[0m in \u001b[0;36mgetInput\u001b[1;34m(input_symptoms, column_names)\u001b[0m\n\u001b[0;32m     13\u001b[0m     \u001b[1;31m#print(column_names.dtype)\u001b[0m\u001b[1;33m\u001b[0m\u001b[1;33m\u001b[0m\u001b[1;33m\u001b[0m\u001b[0m\n\u001b[0;32m     14\u001b[0m     \u001b[1;31m#test = np.compare_chararrays(column_names, input_symptoms, \"==\", True)\u001b[0m\u001b[1;33m\u001b[0m\u001b[1;33m\u001b[0m\u001b[1;33m\u001b[0m\u001b[0m\n\u001b[1;32m---> 15\u001b[1;33m     \u001b[1;32mreturn\u001b[0m \u001b[0mnp\u001b[0m\u001b[1;33m.\u001b[0m\u001b[0mwhere\u001b[0m\u001b[1;33m(\u001b[0m\u001b[0mcolumn_names\u001b[0m \u001b[1;33m==\u001b[0m \u001b[0minput_symptoms\u001b[0m\u001b[1;33m,\u001b[0m \u001b[1;36m1\u001b[0m\u001b[1;33m,\u001b[0m \u001b[1;36m0\u001b[0m\u001b[1;33m)\u001b[0m\u001b[1;33m\u001b[0m\u001b[1;33m\u001b[0m\u001b[0m\n\u001b[0m\u001b[0;32m     16\u001b[0m \u001b[1;33m\u001b[0m\u001b[0m\n\u001b[0;32m     17\u001b[0m \u001b[0minputs\u001b[0m \u001b[1;33m=\u001b[0m \u001b[0mnp\u001b[0m\u001b[1;33m.\u001b[0m\u001b[0marray\u001b[0m\u001b[1;33m(\u001b[0m\u001b[1;33m[\u001b[0m\u001b[1;34m'chagt'\u001b[0m\u001b[1;33m,\u001b[0m\u001b[1;34m' acidity'\u001b[0m\u001b[1;33m,\u001b[0m\u001b[1;34m' anxiety'\u001b[0m\u001b[1;33m]\u001b[0m\u001b[1;33m)\u001b[0m\u001b[1;33m\u001b[0m\u001b[1;33m\u001b[0m\u001b[0m\n",
      "\u001b[1;31mValueError\u001b[0m: shape mismatch: objects cannot be broadcast to a single shape"
     ]
    }
   ],
   "source": [
    "def getInput(input_symptoms,column_names):\n",
    "    #output_array = column_names\n",
    "    #np.where(input_symptoms == column_names, 1, 0)\n",
    "    #for symptom in input_symptoms:\n",
    "    #    if symptom in column_names:\n",
    "            \n",
    "    #    print(\"test\")\n",
    "    #    print(output_array)\n",
    "    #    #print(column_names)\n",
    "    #    output_array = np.where(column_names==symptom, 1, 0)\n",
    "    #    print(output_array)\n",
    "   #print(input_symptoms.dtype)\n",
    "    #print(column_names.dtype)\n",
    "    #test = np.compare_chararrays(column_names, input_symptoms, \"==\", True)\n",
    "    return np.where(column_names == input_symptoms, 1, 0)\n",
    "     \n",
    "inputs = np.array(['chagt',' acidity',' anxiety'])\n",
    "test = np.array(df.columns)\n",
    "test= test.astype(str)\n",
    "print(test)\n",
    "output_array = getInput(inputs,test)\n",
    "print(\"last\")\n",
    "print(output_array)"
   ]
  },
  {
   "cell_type": "code",
   "execution_count": 132,
   "id": "ancient-knitting",
   "metadata": {},
   "outputs": [
    {
     "ename": "ValueError",
     "evalue": "invalid literal for int() with base 10: 'acidity'",
     "output_type": "error",
     "traceback": [
      "\u001b[1;31m---------------------------------------------------------------------------\u001b[0m",
      "\u001b[1;31mValueError\u001b[0m                                Traceback (most recent call last)",
      "\u001b[1;32m<ipython-input-132-d135892d9945>\u001b[0m in \u001b[0;36m<module>\u001b[1;34m\u001b[0m\n\u001b[0;32m      1\u001b[0m \u001b[0minputs\u001b[0m \u001b[1;33m=\u001b[0m \u001b[0mnp\u001b[0m\u001b[1;33m.\u001b[0m\u001b[0marray\u001b[0m\u001b[1;33m(\u001b[0m\u001b[0mlen\u001b[0m\u001b[1;33m(\u001b[0m\u001b[0mdf\u001b[0m\u001b[1;33m.\u001b[0m\u001b[0mcolumns\u001b[0m\u001b[1;33m)\u001b[0m\u001b[1;33m)\u001b[0m\u001b[1;33m\u001b[0m\u001b[1;33m\u001b[0m\u001b[0m\n\u001b[1;32m----> 2\u001b[1;33m \u001b[0mnp\u001b[0m\u001b[1;33m.\u001b[0m\u001b[0minsert\u001b[0m\u001b[1;33m(\u001b[0m\u001b[0minputs\u001b[0m\u001b[1;33m,\u001b[0m\u001b[1;36m1\u001b[0m\u001b[1;33m,\u001b[0m\u001b[1;34m\"acidity\"\u001b[0m\u001b[1;33m)\u001b[0m\u001b[1;33m\u001b[0m\u001b[1;33m\u001b[0m\u001b[0m\n\u001b[0m\u001b[0;32m      3\u001b[0m \u001b[0mlen\u001b[0m\u001b[1;33m(\u001b[0m\u001b[0minputs\u001b[0m\u001b[1;33m)\u001b[0m\u001b[1;33m\u001b[0m\u001b[1;33m\u001b[0m\u001b[0m\n\u001b[0;32m      4\u001b[0m \u001b[1;31m#inputs = np.array([\" acidity\",\" anxiety\"])\u001b[0m\u001b[1;33m\u001b[0m\u001b[1;33m\u001b[0m\u001b[1;33m\u001b[0m\u001b[0m\n\u001b[0;32m      5\u001b[0m \u001b[1;31m#test = np.array(df.columns)\u001b[0m\u001b[1;33m\u001b[0m\u001b[1;33m\u001b[0m\u001b[1;33m\u001b[0m\u001b[0m\n",
      "\u001b[1;32m<__array_function__ internals>\u001b[0m in \u001b[0;36minsert\u001b[1;34m(*args, **kwargs)\u001b[0m\n",
      "\u001b[1;32mE:\\Geethanjana\\SOFT\\ANACONDA\\lib\\site-packages\\numpy\\lib\\function_base.py\u001b[0m in \u001b[0;36minsert\u001b[1;34m(arr, obj, values, axis)\u001b[0m\n\u001b[0;32m   4638\u001b[0m         \u001b[1;31m# There are some object array corner cases here, but we cannot avoid\u001b[0m\u001b[1;33m\u001b[0m\u001b[1;33m\u001b[0m\u001b[1;33m\u001b[0m\u001b[0m\n\u001b[0;32m   4639\u001b[0m         \u001b[1;31m# that:\u001b[0m\u001b[1;33m\u001b[0m\u001b[1;33m\u001b[0m\u001b[1;33m\u001b[0m\u001b[0m\n\u001b[1;32m-> 4640\u001b[1;33m         \u001b[0mvalues\u001b[0m \u001b[1;33m=\u001b[0m \u001b[0marray\u001b[0m\u001b[1;33m(\u001b[0m\u001b[0mvalues\u001b[0m\u001b[1;33m,\u001b[0m \u001b[0mcopy\u001b[0m\u001b[1;33m=\u001b[0m\u001b[1;32mFalse\u001b[0m\u001b[1;33m,\u001b[0m \u001b[0mndmin\u001b[0m\u001b[1;33m=\u001b[0m\u001b[0marr\u001b[0m\u001b[1;33m.\u001b[0m\u001b[0mndim\u001b[0m\u001b[1;33m,\u001b[0m \u001b[0mdtype\u001b[0m\u001b[1;33m=\u001b[0m\u001b[0marr\u001b[0m\u001b[1;33m.\u001b[0m\u001b[0mdtype\u001b[0m\u001b[1;33m)\u001b[0m\u001b[1;33m\u001b[0m\u001b[1;33m\u001b[0m\u001b[0m\n\u001b[0m\u001b[0;32m   4641\u001b[0m         \u001b[1;32mif\u001b[0m \u001b[0mindices\u001b[0m\u001b[1;33m.\u001b[0m\u001b[0mndim\u001b[0m \u001b[1;33m==\u001b[0m \u001b[1;36m0\u001b[0m\u001b[1;33m:\u001b[0m\u001b[1;33m\u001b[0m\u001b[1;33m\u001b[0m\u001b[0m\n\u001b[0;32m   4642\u001b[0m             \u001b[1;31m# broadcasting is very different here, since a[:,0,:] = ... behaves\u001b[0m\u001b[1;33m\u001b[0m\u001b[1;33m\u001b[0m\u001b[1;33m\u001b[0m\u001b[0m\n",
      "\u001b[1;31mValueError\u001b[0m: invalid literal for int() with base 10: 'acidity'"
     ]
    }
   ],
   "source": [
    "#inputs = np.array(len(df.columns))\n",
    "#np.insert(inputs,1,\"acidity\")\n",
    "#len(inputs)\n",
    "#inputs = np.array([\" acidity\",\" anxiety\"])\n",
    "#test = np.array(df.columns)\n",
    "#test= test.astype(str)\n",
    "#print(inputs==test)\n",
    "#print(np.compare_chararrays(test, inputs, \"==\", True))\n",
    "#print(test == \" acidity\")\n",
    "#output_array = np.array_equiv(inputs,np.array(df.columns))\n",
    "#output_array = inputs in np.array(df.columns)\n",
    "#print(inputs)\n",
    "#print(output_array)"
   ]
  }
 ],
 "metadata": {
  "kernelspec": {
   "display_name": "Python 3",
   "language": "python",
   "name": "python3"
  },
  "language_info": {
   "codemirror_mode": {
    "name": "ipython",
    "version": 3
   },
   "file_extension": ".py",
   "mimetype": "text/x-python",
   "name": "python",
   "nbconvert_exporter": "python",
   "pygments_lexer": "ipython3",
   "version": "3.7.6"
  }
 },
 "nbformat": 4,
 "nbformat_minor": 5
}
