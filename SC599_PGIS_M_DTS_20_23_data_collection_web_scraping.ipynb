{
 "cells": [
  {
   "cell_type": "code",
   "execution_count": 1,
   "metadata": {},
   "outputs": [],
   "source": [
    "...from time import sleep\n",
    "from selenium import webdriver\n",
    "from selenium.webdriver.chrome.options import Options\n",
    "from bs4 import BeautifulSoup as bs\n",
    "import requests \n",
    "import csv"
   ]
  },
  {
   "cell_type": "code",
   "execution_count": 2,
   "metadata": {},
   "outputs": [],
   "source": [
    "driver_exe_path = \"/home/geethanjana/Datascience/SC599/chromedriver_linux64/chromedriver\"\n",
    "initial_url = \"https://www.mayoclinic.org/diseases-conditions/\""
   ]
  },
  {
   "cell_type": "code",
   "execution_count": 3,
   "metadata": {},
   "outputs": [],
   "source": [
    "chrome_options = Options()\n",
    "chrome_options.add_argument(\"--headless\")\n",
    "\n",
    "driver = webdriver.Chrome(driver_exe_path, options=chrome_options)\n",
    "driver.get(initial_url);"
   ]
  },
  {
   "cell_type": "code",
   "execution_count": 4,
   "metadata": {},
   "outputs": [],
   "source": [
    "url_list = set()\n",
    "\n",
    "def capture_links():\n",
    "    category_links = driver.find_elements_by_tag_name('a');\n",
    "        \n",
    "    for category_link in category_links:\n",
    "        category_href = category_link.get_attribute('href')\n",
    "        if category_href.startswith(\"https://www.mayoclinic.org/diseases-conditions/index?letter=A\"):\n",
    "            sub_driver = webdriver.Chrome(driver_exe_path, options=chrome_options)\n",
    "            sub_driver.get(category_href)\n",
    "            sleep(2)\n",
    "            disease_links = sub_driver.find_elements_by_xpath(\"//a[contains(@href,'/symptoms-causes/')]\")\n",
    "            for disease_link in disease_links:\n",
    "                disease_href = disease_link.get_attribute('href')\n",
    "                url_list.add(disease_href)\n",
    "                \n",
    "            sub_driver.quit()\n",
    "      \n",
    "\n",
    "capture_links()\n",
    "driver.quit()"
   ]
  },
  {
   "cell_type": "code",
   "execution_count": 22,
   "metadata": {},
   "outputs": [],
   "source": [
    "\n",
    "xurl = 'https://www.mayoclinic.org/diseases-conditions/latex-allergy/symptoms-causes/syc-20374287'\n",
    "response = requests.get(xurl)\n",
    "full_html = bs(response.content, \"html.parser\")\n",
    "Disease = full_html.find(\"h1\").text\n",
    "result = u\"\"\n",
    "\n",
    "for tag in full_html.find(\"h2\",text=\"Symptoms\").next_siblings:\n",
    "    if tag.name == \"h2\":\n",
    "        break\n",
    "    else:\n",
    "        result += str(tag)\n",
    "        \n",
    "cropped_html = bs(result)"
   ]
  },
  {
   "cell_type": "code",
   "execution_count": 66,
   "metadata": {},
   "outputs": [
    {
     "name": "stdout",
     "output_type": "stream",
     "text": [
      "https://www.mayoclinic.org/diseases-conditions/benign-adrenal-tumors/symptoms-causes/syc-20356190\n",
      "https://www.mayoclinic.org/diseases-conditions/nickel-allergy/symptoms-causes/syc-20351529\n",
      "https://www.mayoclinic.org/diseases-conditions/anal-fistula/symptoms-causes/syc-20352871\n",
      "https://www.mayoclinic.org/diseases-conditions/airplane-ear/symptoms-causes/syc-20351701\n",
      "https://www.mayoclinic.org/diseases-conditions/childhood-asthma/symptoms-causes/syc-20351507\n",
      "https://www.mayoclinic.org/diseases-conditions/churg-strauss-syndrome/symptoms-causes/syc-20353760\n",
      "https://www.mayoclinic.org/diseases-conditions/giant-cell-arteritis/symptoms-causes/syc-20372758\n",
      "https://www.mayoclinic.org/diseases-conditions/antibiotic-associated-diarrhea/symptoms-causes/syc-20352231\n",
      "https://www.mayoclinic.org/diseases-conditions/adrenoleukodystrophy/symptoms-causes/syc-20369157\n",
      "https://www.mayoclinic.org/diseases-conditions/primary-progressive-aphasia/symptoms-causes/syc-20350499\n",
      "https://www.mayoclinic.org/diseases-conditions/atrial-flutter/symptoms-causes/syc-20352586\n",
      "https://www.mayoclinic.org/diseases-conditions/atypical-hyperplasia/symptoms-causes/syc-20369773\n",
      "https://www.mayoclinic.org/diseases-conditions/popliteal-artery-aneurysm/symptoms-causes/syc-20355432\n",
      "https://www.mayoclinic.org/diseases-conditions/sweets-syndrome/symptoms-causes/syc-20351117\n",
      "https://www.mayoclinic.org/diseases-conditions/aortic-valve-disease/symptoms-causes/syc-20355117\n",
      "https://www.mayoclinic.org/diseases-conditions/asbestosis/symptoms-causes/syc-20354637\n",
      "https://www.mayoclinic.org/diseases-conditions/thumb-arthritis/symptoms-causes/syc-20378339\n",
      "https://www.mayoclinic.org/diseases-conditions/adnexal-tumors/symptoms-causes/syc-20355053\n",
      "https://www.mayoclinic.org/diseases-conditions/petit-mal-seizure/symptoms-causes/syc-20359683\n",
      "https://www.mayoclinic.org/diseases-conditions/chiari-malformation/symptoms-causes/syc-20354010\n",
      "https://www.mayoclinic.org/diseases-conditions/acute-flaccid-myelitis/symptoms-causes/syc-20493046\n",
      "https://www.mayoclinic.org/diseases-conditions/aortic-aneurysm/symptoms-causes/syc-20369472\n",
      "https://www.mayoclinic.org/diseases-conditions/broken-heart-syndrome/symptoms-causes/syc-20354617\n",
      "https://www.mayoclinic.org/diseases-conditions/takayasus-arteritis/symptoms-causes/syc-20351335\n",
      "https://www.mayoclinic.org/diseases-conditions/autoimmune-pancreatitis/symptoms-causes/syc-20369800\n",
      "https://www.mayoclinic.org/diseases-conditions/arteriovenous-fistula/symptoms-causes/syc-20369567\n",
      "https://www.mayoclinic.org/diseases-conditions/myelofibrosis/symptoms-causes/syc-20355057\n",
      "https://www.mayoclinic.org/diseases-conditions/adjustment-disorders/symptoms-causes/syc-20355224\n",
      "https://www.mayoclinic.org/diseases-conditions/acute-sinusitis/symptoms-causes/syc-20351671\n",
      "https://www.mayoclinic.org/diseases-conditions/separated-shoulder/symptoms-causes/syc-20354049\n",
      "https://www.mayoclinic.org/diseases-conditions/chagas-disease/symptoms-causes/syc-20356212\n",
      "https://www.mayoclinic.org/diseases-conditions/mold-allergy/symptoms-causes/syc-20351519\n",
      "https://www.mayoclinic.org/diseases-conditions/angelman-syndrome/symptoms-causes/syc-20355621\n",
      "https://www.mayoclinic.org/diseases-conditions/infant-acid-reflux/symptoms-causes/syc-20351408\n",
      "https://www.mayoclinic.org/diseases-conditions/tongue-tie/symptoms-causes/syc-20378452\n",
      "https://www.mayoclinic.org/diseases-conditions/aneurysms/symptoms-causes/syc-20354633\n"
     ]
    }
   ],
   "source": [
    "with open(\"data/dataset_2.csv\", mode=\"w\", newline=\"\", encoding='utf-8') as out_file:\n",
    "    dataset = csv.writer(out_file, delimiter=\",\", quotechar='\"', quoting = csv.QUOTE_MINIMAL)\n",
    "    dataset.writerow([\"Disease\", \"Symptom_1\", \"Symptom_2\", \"Symptom_3\", \"Symptom_4\", \"Symptom_5\", \"Symptom_6\", \"Symptom_7\", \"Symptom_8\",\n",
    "                      \"Symptom_9\", \"Symptom_10\", \"Symptom_11\", \"Symptom_12\", \"Symptom_13\", \"Symptom_14\", \"Symptom_15\", \"Symptom_16\", \"Symptom_17\"])\n",
    "    \n",
    "    for url in  url_list:\n",
    "        response = requests.get(url)\n",
    "        full_html = bs(response.content, \"html.parser\")\n",
    "        Disease = full_html.find(\"h1\").text\n",
    "        result = u\"\"\n",
    "\n",
    "        try:    \n",
    "            for tag in full_html.find(\"h2\",text=\"Symptoms\").next_siblings:\n",
    "                if tag.name == \"h2\":\n",
    "                    break\n",
    "                else:\n",
    "                    result += str(tag)\n",
    "                        \n",
    "            cropped_html = bs(result)\n",
    "        \n",
    "            row = ['']*18\n",
    "            row[0] = Disease\n",
    "            try:\n",
    "                for ul in cropped_html.find_all('ul'):\n",
    "                    for idx, li in enumerate(ul.findChildren('li')):\n",
    "                        if idx == 17:\n",
    "                            break\n",
    "                        row[idx+1] = li.text\n",
    "                    dataset.writerow(row)\n",
    "            except:\n",
    "                print(url)\n",
    "        except:\n",
    "            print(url)\n"
   ]
  },
  {
   "cell_type": "code",
   "execution_count": 44,
   "metadata": {},
   "outputs": [
    {
     "ename": "TypeError",
     "evalue": "list indices must be integers or slices, not list",
     "output_type": "error",
     "traceback": [
      "\u001b[0;31m---------------------------------------------------------------------------\u001b[0m",
      "\u001b[0;31mTypeError\u001b[0m                                 Traceback (most recent call last)",
      "\u001b[0;32m<ipython-input-44-81470451ec5b>\u001b[0m in \u001b[0;36m<module>\u001b[0;34m\u001b[0m\n\u001b[1;32m      1\u001b[0m \u001b[0mtext\u001b[0m \u001b[0;34m=\u001b[0m \u001b[0;34m[\u001b[0m\u001b[0;34m''\u001b[0m\u001b[0;34m]\u001b[0m\u001b[0;34m*\u001b[0m\u001b[0;36m18\u001b[0m\u001b[0;34m\u001b[0m\u001b[0;34m\u001b[0m\u001b[0m\n\u001b[0;32m----> 2\u001b[0;31m \u001b[0mtext\u001b[0m\u001b[0;34m[\u001b[0m\u001b[0;34m[\u001b[0m\u001b[0;36m0\u001b[0m\u001b[0;34m]\u001b[0m\u001b[0;34m]\u001b[0m \u001b[0;34m=\u001b[0m \u001b[0mDisease\u001b[0m\u001b[0;34m\u001b[0m\u001b[0;34m\u001b[0m\u001b[0m\n\u001b[0m\u001b[1;32m      3\u001b[0m \u001b[0mprint\u001b[0m\u001b[0;34m(\u001b[0m\u001b[0mtext\u001b[0m\u001b[0;34m)\u001b[0m\u001b[0;34m\u001b[0m\u001b[0;34m\u001b[0m\u001b[0m\n\u001b[1;32m      4\u001b[0m \u001b[0;31m#text = [[text[[idx+1]] = li.text for idx, li in enumerate(ul.findChildren('li'))] for ul in cropped_html.find_all('ul')]\u001b[0m\u001b[0;34m\u001b[0m\u001b[0;34m\u001b[0m\u001b[0;34m\u001b[0m\u001b[0m\n\u001b[1;32m      5\u001b[0m \u001b[0;34m\u001b[0m\u001b[0m\n",
      "\u001b[0;31mTypeError\u001b[0m: list indices must be integers or slices, not list"
     ]
    }
   ],
   "source": [
    "#text = [[li.text for li in ul.find_all('li')] for ul in cropped_html.find_all('ul')]\n",
    "#print(text)"
   ]
  },
  {
   "cell_type": "code",
   "execution_count": null,
   "metadata": {},
   "outputs": [],
   "source": [
    "#with open(\"csv/ebay_laptop_details.csv\", mode=\"w\", newline=\"\", encoding='utf-8') as out_file:\n",
    "#    ebay_info = csv.writer(out_file, delimiter=\",\", quotechar='\"', quoting = csv.QUOTE_MINIMAL)\n",
    "#    ebay_info.writerow([\"title\", \"condition\", \"available_count\", \"sold_count\", \"price\", \"converted_price\", \"shipping_cost\", \"why_to_buy\"])\n",
    "\n",
    "    for url in  item_url_list:\n",
    "        \n",
    "        response = requests.get(url)\n",
    "        print(response)            \n",
    "        \n",
    "        if response.status_code == 200:\n",
    "            html_page = bs(response.content, \"html.parser\")\n",
    "        \n",
    "            symptom = html_page.find(\"h2\",text=\"Symptoms\")\n",
    "            causes = html_page.find(\"h2\",text=\"Causes\")\n",
    "        \n",
    "            condition = html_page.find(\"div\", {\"id\":\"vi-itm-cond\"})\n",
    "            if condition != None:\n",
    "                condition = condition.text\n",
    "            \n",
    "            available_count = html_page.find(\"span\",{\"id\":\"qtySubTxt\"})\n",
    "            if available_count != None:\n",
    "                available_count = available_count.find(\"span\").text\n",
    "                av_regex = r\"\\n\\t\\t\\t\\t\\t\\t\\t\\t(.*) (.*?)$\"\n",
    "                available_count = re.findall(av_regex,available_count)[0][0]\n",
    "\n",
    "\n",
    "#            ebay_info.writerow([title, condition, available_count, sold_count, price, price_in_usd, shipping_cost, w2b_content_dict])\n",
    "        print(\"{}, {}, {}, {}, {}, {}, {}, {}, {}, {}, {}, {}, {}, {}, {}, {}, {}, {}\".format(Disease, Symptom_1, Symptom_2, Symptom_3, Symptom_4, Symptom_5, Symptom_6, Symptom_7, Symptom_8, Symptom_9, Symptom_10, Symptom_11, Symptom_12, Symptom_13, Symptom_14, Symptom_15, Symptom_16, Symptom_17))"
   ]
  },
  {
   "cell_type": "code",
   "execution_count": 4,
   "metadata": {},
   "outputs": [],
   "source": [
    "item_url_list = set()\n",
    "\n",
    "def capture_product_links():\n",
    "    all_links = driver.find_elements_by_tag_name('a');\n",
    "    \n",
    "    for link in all_links:\n",
    "        href = link.get_attribute('href')\n",
    "        if href.startswith(\"https://www.ebay.com/itm/\"):\n",
    "            item_url_list.add(href)\n",
    "            \n",
    "        if href.startswith(\"https://www.ebay.com/p/\"):\n",
    "            sub_driver = webdriver.Chrome(driver_exe_path)\n",
    "            sub_driver.get(href)\n",
    "            sleep(2)\n",
    "            href = sub_driver.find_element_by_partial_link_text(\"See details\").get_attribute('href')\n",
    "            if href.startswith(\"https://www.ebay.com/itm/\"):\n",
    "                item_url_list.add(href)\n",
    "            sub_driver.quit()\n",
    "            "
   ]
  },
  {
   "cell_type": "code",
   "execution_count": 5,
   "metadata": {},
   "outputs": [
    {
     "name": "stdout",
     "output_type": "stream",
     "text": [
      "https://www.ebay.com/b/PC-Laptops-Netbooks/177/bn_317584\n"
     ]
    }
   ],
   "source": [
    "# route to electronics\n",
    "stat_link = driver.find_element_by_link_text(\"Electronics\")\n",
    "stat_link.click()\n",
    "sleep(2)\n",
    "\n",
    "# route to computers\n",
    "stat_link = driver.find_element_by_link_text(\"Computers, Tablets & Network Hardware\")\n",
    "stat_link.click()\n",
    "sleep(2)\n",
    "\n",
    "# route to laptops\n",
    "stat_link = driver.find_element_by_link_text(\"Laptops & Netbooks\")\n",
    "stat_link.click()\n",
    "sleep(2)\n",
    "\n",
    "# route to PCs\n",
    "stat_link = driver.find_element_by_link_text(\"PC Laptops & Netbooks\")\n",
    "stat_link.click()\n",
    "sleep(2)\n",
    "\n",
    "# filter to new PCs\n",
    "# stat_link = driver.find_element_by_id(\"s0-29-13_2-0-1[1]-0-6-0-multiselect[]\")\n",
    "# stat_link.click()\n",
    "# sleep(2)\n",
    "\n",
    "print(driver.current_url)"
   ]
  },
  {
   "cell_type": "code",
   "execution_count": 6,
   "metadata": {},
   "outputs": [],
   "source": [
    "def traverse_and_search_links():\n",
    "    prev_list = -1\n",
    "    current_list = 0\n",
    "\n",
    "    #     use condition current_list != prev_list to go through pagination & capture all \n",
    "    while int(current_list) < 100:\n",
    "        capture_product_links()\n",
    "        prev_list = current_list\n",
    "        next_button = driver.find_element_by_css_selector(\"a[rel='next']\")\n",
    "        next_button.click()\n",
    "        sleep(2)\n",
    "        current_list = driver.find_element_by_css_selector(\"li[class='ebayui-pagination__li ebayui-pagination__li--selected'] a\").text"
   ]
  },
  {
   "cell_type": "code",
   "execution_count": 7,
   "metadata": {},
   "outputs": [
    {
     "name": "stdout",
     "output_type": "stream",
     "text": [
      "1587\n"
     ]
    }
   ],
   "source": [
    "traverse_and_search_links()\n",
    "\n",
    "print(len(item_url_list))\n",
    "# print(\"\\n\".join(item_url_list))"
   ]
  },
  {
   "cell_type": "code",
   "execution_count": null,
   "metadata": {},
   "outputs": [],
   "source": [
    "with open(\"csv/ebay_laptop_details.csv\", mode=\"w\", newline=\"\", encoding='utf-8') as out_file:\n",
    "    ebay_info = csv.writer(out_file, delimiter=\",\", quotechar='\"', quoting = csv.QUOTE_MINIMAL)\n",
    "    ebay_info.writerow([\"title\", \"condition\", \"available_count\", \"sold_count\", \"price\", \"converted_price\", \"shipping_cost\", \"why_to_buy\"])\n",
    "\n",
    "    for url in  item_url_list:\n",
    "        \n",
    "        response = requests.get(url)\n",
    "        print(response)            \n",
    "        \n",
    "        if response.status_code == 200:\n",
    "            html_page = bs(response.content, \"html.parser\")\n",
    "        \n",
    "            title = html_page.find(\"h1\",{\"id\":\"itemTitle\"}).text\n",
    "        \n",
    "            condition = html_page.find(\"div\", {\"id\":\"vi-itm-cond\"})\n",
    "            if condition != None:\n",
    "                condition = condition.text\n",
    "            \n",
    "            available_count = html_page.find(\"span\",{\"id\":\"qtySubTxt\"})\n",
    "            if available_count != None:\n",
    "                available_count = available_count.find(\"span\").text\n",
    "                av_regex = r\"\\n\\t\\t\\t\\t\\t\\t\\t\\t(.*) (.*?)$\"\n",
    "                available_count = re.findall(av_regex,available_count)[0][0]\n",
    "            \n",
    "            sold_count = html_page.find(\"span\",{\"class\":[\"vi-qtyS\", \"vi-qtyS-hot-red\"]})\n",
    "            if sold_count != None:\n",
    "                sold_count= sold_count.find(\"a\").text\n",
    "                sc_regex = r\"(.*?) sold?\"\n",
    "                sold_count = re.findall(sc_regex, sold_count)[0]\n",
    "            \n",
    "            price = html_page.find(\"span\", {\"id\":\"prcIsum\"})\n",
    "            if price != None:\n",
    "                price = price.text\n",
    "            \n",
    "            price_in_usd = html_page.find(\"span\", {\"id\":[\"convbinPrice\", \"convbidPrice\"]})\n",
    "            if price_in_usd != None:\n",
    "                price_in_usd = price_in_usd.text\n",
    "                pid_regex = r\"US (.*?)\\(including shipping\\)?\"\n",
    "                price_in_usd = re.findall(pid_regex, price_in_usd)[0]\n",
    "            \n",
    "            shipping_cost = html_page.find(\"span\",{\"id\":\"fshippingCost\"})\n",
    "            if shipping_cost != None:\n",
    "                shipping_cost = shipping_cost.find(\"span\").text\n",
    "            \n",
    "            why_to_buy = html_page.find(\"div\", {\"id\":\"why2buy\"})\n",
    "            w2b_content_dict = {}\n",
    "            if why_to_buy != None:\n",
    "                why_to_buy_contents = why_to_buy.find_all(\"div\",{\"class\":\"w2b-cnt\"})\n",
    "            \n",
    "                for content in why_to_buy_contents:\n",
    "                    content_heading = content.find(\"span\",{\"class\":\"w2b-head\"})\n",
    "                    content_meaning = content.find(\"span\",{\"class\":\"w2b-subhead\"})\n",
    "                \n",
    "                    if content_heading != None:\n",
    "                        content_heading = content_heading.text\n",
    "                    if content_meaning != None:\n",
    "                        content_meaning = content_meaning.text\n",
    "                    \n",
    "                    w2b_content_dict[content_meaning] = content_heading\n",
    "\n",
    "            ebay_info.writerow([title, condition, available_count, sold_count, price, price_in_usd, shipping_cost, w2b_content_dict])\n",
    "#         print(\"{}, {}, {}, {}, {}, {}, {}\".format(title, condition, available_count, sold_count, price, shipping_cost, watchers))"
   ]
  }
 ],
 "metadata": {
  "kernelspec": {
   "display_name": "Python 3",
   "language": "python",
   "name": "python3"
  },
  "language_info": {
   "codemirror_mode": {
    "name": "ipython",
    "version": 3
   },
   "file_extension": ".py",
   "mimetype": "text/x-python",
   "name": "python",
   "nbconvert_exporter": "python",
   "pygments_lexer": "ipython3",
   "version": "3.7.6"
  }
 },
 "nbformat": 4,
 "nbformat_minor": 4
}
