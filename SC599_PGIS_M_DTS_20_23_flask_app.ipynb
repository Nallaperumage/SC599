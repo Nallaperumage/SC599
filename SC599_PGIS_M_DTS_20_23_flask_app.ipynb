{
 "cells": [
  {
   "cell_type": "code",
   "execution_count": 2,
   "id": "antique-equivalent",
   "metadata": {},
   "outputs": [
    {
     "name": "stdout",
     "output_type": "stream",
     "text": [
      " * Serving Flask app \"__main__\" (lazy loading)\n",
      " * Environment: production\n",
      "\u001b[31m   WARNING: This is a development server. Do not use it in a production deployment.\u001b[0m\n",
      "\u001b[2m   Use a production WSGI server instead.\u001b[0m\n",
      " * Debug mode: off\n"
     ]
    },
    {
     "name": "stderr",
     "output_type": "stream",
     "text": [
      "/home/geethanjana/anaconda3/lib/python3.8/site-packages/sklearn/base.py:310: UserWarning: Trying to unpickle estimator DecisionTreeClassifier from version 0.23.2 when using version 0.24.2. This might lead to breaking code or invalid results. Use at your own risk.\n",
      "  warnings.warn(\n",
      "/home/geethanjana/anaconda3/lib/python3.8/site-packages/sklearn/base.py:310: UserWarning: Trying to unpickle estimator RandomForestClassifier from version 0.23.2 when using version 0.24.2. This might lead to breaking code or invalid results. Use at your own risk.\n",
      "  warnings.warn(\n",
      " * Running on http://127.0.0.1:5000/ (Press CTRL+C to quit)\n"
     ]
    }
   ],
   "source": [
    "from flask import Flask, request, jsonify\n",
    "#from sklearn.externals import joblib\n",
    "import joblib\n",
    "import numpy as np\n",
    "import json\n",
    "from flask_cors import CORS\n",
    "\n",
    "app = Flask(__name__)\n",
    "cors = CORS(app)\n",
    "\n",
    "@app.route('/predict', methods=['POST'])\n",
    "def predict():\n",
    "    json_ = request.json\n",
    "    print(json)\n",
    "    inputs = np.array(json_)\n",
    "    print(inputs)\n",
    "    test = np.array(symptoms)\n",
    "    mask = np.in1d(np.array(symptoms), inputs).astype(int)\n",
    "    \n",
    "    predict = disease_predict_model.predict([mask])\n",
    "    disease_name = disease_names[str(predict[0])]\n",
    "    \n",
    "    return jsonify({'prediction': disease_name})\n",
    "    \n",
    "def readFile(file_path, data_type):\n",
    "    file = open(file_path)\n",
    "    if data_type == 'dict':\n",
    "        read_data = json.load(file)\n",
    "        file.close()\n",
    "        return read_data\n",
    "    elif data_type == 'arr':\n",
    "        read_data = file.read().splitlines()\n",
    "        file.close()\n",
    "        return read_data\n",
    "    else :\n",
    "        read_data = file.read()\n",
    "        file.close()\n",
    "        return read_data\n",
    "    \n",
    "if __name__ == '__main__':\n",
    "    disease_names = readFile('data/disease_names.json','dict')\n",
    "    symptoms = readFile('data/symptoms.txt','arr')\n",
    "    \n",
    "    disease_predict_model = joblib.load('random_forest.joblib')\n",
    "    \n",
    "    app.run(port=5000)"
   ]
  },
  {
   "cell_type": "code",
   "execution_count": null,
   "id": "public-apparatus",
   "metadata": {},
   "outputs": [],
   "source": []
  },
  {
   "cell_type": "code",
   "execution_count": null,
   "id": "everyday-thong",
   "metadata": {},
   "outputs": [],
   "source": []
  }
 ],
 "metadata": {
  "kernelspec": {
   "display_name": "Python 3",
   "language": "python",
   "name": "python3"
  },
  "language_info": {
   "codemirror_mode": {
    "name": "ipython",
    "version": 3
   },
   "file_extension": ".py",
   "mimetype": "text/x-python",
   "name": "python",
   "nbconvert_exporter": "python",
   "pygments_lexer": "ipython3",
   "version": "3.8.10"
  }
 },
 "nbformat": 4,
 "nbformat_minor": 5
}
